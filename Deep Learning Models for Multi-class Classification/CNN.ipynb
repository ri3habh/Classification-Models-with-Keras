{
 "cells": [
  {
   "cell_type": "code",
   "execution_count": 1,
   "id": "8ce4243d",
   "metadata": {
    "_cell_guid": "b1076dfc-b9ad-4769-8c92-a6c4dae69d19",
    "_uuid": "8f2839f25d086af736a60e9eeb907d3b93b6e0e5",
    "execution": {
     "iopub.execute_input": "2023-12-04T04:02:18.366390Z",
     "iopub.status.busy": "2023-12-04T04:02:18.365629Z",
     "iopub.status.idle": "2023-12-04T04:02:19.171988Z",
     "shell.execute_reply": "2023-12-04T04:02:19.170921Z"
    },
    "papermill": {
     "duration": 0.815932,
     "end_time": "2023-12-04T04:02:19.174393",
     "exception": false,
     "start_time": "2023-12-04T04:02:18.358461",
     "status": "completed"
    },
    "tags": []
   },
   "outputs": [
    {
     "name": "stdout",
     "output_type": "stream",
     "text": [
      "/kaggle/input/watai-open-project-f23-beginner-dl/beginner_data.npz\n"
     ]
    }
   ],
   "source": [
    "# This Python 3 environment comes with many helpful analytics libraries installed\n",
    "# It is defined by the kaggle/python Docker image: https://github.com/kaggle/docker-python\n",
    "# For example, here's several helpful packages to load\n",
    "\n",
    "import numpy as np # linear algebra\n",
    "import pandas as pd # data processing, CSV file I/O (e.g. pd.read_csv)\n",
    "\n",
    "# Input data files are available in the read-only \"../input/\" directory\n",
    "# For example, running this (by clicking run or pressing Shift+Enter) will list all files under the input directory\n",
    "\n",
    "import os\n",
    "for dirname, _, filenames in os.walk('/kaggle/input'):\n",
    "    for filename in filenames:\n",
    "        print(os.path.join(dirname, filename))\n",
    "\n",
    "# You can write up to 20GB to the current directory (/kaggle/working/) that gets preserved as output when you create a version using \"Save & Run All\" \n",
    "# You can also write temporary files to /kaggle/temp/, but they won't be saved outside of the current session"
   ]
  },
  {
   "cell_type": "code",
   "execution_count": 2,
   "id": "bab324aa",
   "metadata": {
    "execution": {
     "iopub.execute_input": "2023-12-04T04:02:19.186786Z",
     "iopub.status.busy": "2023-12-04T04:02:19.186422Z",
     "iopub.status.idle": "2023-12-04T04:02:48.449635Z",
     "shell.execute_reply": "2023-12-04T04:02:48.448790Z"
    },
    "papermill": {
     "duration": 29.271779,
     "end_time": "2023-12-04T04:02:48.452018",
     "exception": false,
     "start_time": "2023-12-04T04:02:19.180239",
     "status": "completed"
    },
    "tags": []
   },
   "outputs": [
    {
     "name": "stderr",
     "output_type": "stream",
     "text": [
      "/opt/conda/lib/python3.10/site-packages/scipy/__init__.py:146: UserWarning: A NumPy version >=1.16.5 and <1.23.0 is required for this version of SciPy (detected version 1.24.3\n",
      "  warnings.warn(f\"A NumPy version >={np_minversion} and <{np_maxversion}\"\n"
     ]
    }
   ],
   "source": [
    "#loading le data\n",
    "\n",
    "import numpy as np\n",
    "import tensorflow as tf\n",
    "\n",
    "with np.load(\"/kaggle/input/watai-open-project-f23-beginner-dl/beginner_data.npz\") as data:\n",
    "    X_train = data['train_images']\n",
    "    y_train = data['train_labels']\n",
    "    X_test = data['test_images']\n",
    "train_dataset = tf.data.Dataset.from_tensor_slices((X_train, y_train))\n",
    "test_dataset = tf.data.Dataset.from_tensor_slices((X_test))"
   ]
  },
  {
   "cell_type": "code",
   "execution_count": 3,
   "id": "3dcc1086",
   "metadata": {
    "execution": {
     "iopub.execute_input": "2023-12-04T04:02:48.466515Z",
     "iopub.status.busy": "2023-12-04T04:02:48.465406Z",
     "iopub.status.idle": "2023-12-04T04:02:48.472784Z",
     "shell.execute_reply": "2023-12-04T04:02:48.471887Z"
    },
    "papermill": {
     "duration": 0.016218,
     "end_time": "2023-12-04T04:02:48.474795",
     "exception": false,
     "start_time": "2023-12-04T04:02:48.458577",
     "status": "completed"
    },
    "tags": []
   },
   "outputs": [
    {
     "data": {
      "text/plain": [
       "(56259, 64, 64, 3)"
      ]
     },
     "execution_count": 3,
     "metadata": {},
     "output_type": "execute_result"
    }
   ],
   "source": [
    "X_train.shape"
   ]
  },
  {
   "cell_type": "code",
   "execution_count": 4,
   "id": "b5d666ec",
   "metadata": {
    "execution": {
     "iopub.execute_input": "2023-12-04T04:02:48.486407Z",
     "iopub.status.busy": "2023-12-04T04:02:48.486105Z",
     "iopub.status.idle": "2023-12-04T04:02:48.491632Z",
     "shell.execute_reply": "2023-12-04T04:02:48.490770Z"
    },
    "papermill": {
     "duration": 0.013591,
     "end_time": "2023-12-04T04:02:48.493612",
     "exception": false,
     "start_time": "2023-12-04T04:02:48.480021",
     "status": "completed"
    },
    "tags": []
   },
   "outputs": [
    {
     "data": {
      "text/plain": [
       "dtype('uint8')"
      ]
     },
     "execution_count": 4,
     "metadata": {},
     "output_type": "execute_result"
    }
   ],
   "source": [
    "X_train.dtype"
   ]
  },
  {
   "cell_type": "code",
   "execution_count": 5,
   "id": "667a4f69",
   "metadata": {
    "execution": {
     "iopub.execute_input": "2023-12-04T04:02:48.505278Z",
     "iopub.status.busy": "2023-12-04T04:02:48.504978Z",
     "iopub.status.idle": "2023-12-04T04:02:48.509965Z",
     "shell.execute_reply": "2023-12-04T04:02:48.509221Z"
    },
    "papermill": {
     "duration": 0.01294,
     "end_time": "2023-12-04T04:02:48.511903",
     "exception": false,
     "start_time": "2023-12-04T04:02:48.498963",
     "status": "completed"
    },
    "tags": []
   },
   "outputs": [
    {
     "data": {
      "text/plain": [
       "(10800, 64, 64, 3)"
      ]
     },
     "execution_count": 5,
     "metadata": {},
     "output_type": "execute_result"
    }
   ],
   "source": [
    "X_test.shape"
   ]
  },
  {
   "cell_type": "code",
   "execution_count": 6,
   "id": "e54efaf6",
   "metadata": {
    "execution": {
     "iopub.execute_input": "2023-12-04T04:02:48.523804Z",
     "iopub.status.busy": "2023-12-04T04:02:48.523550Z",
     "iopub.status.idle": "2023-12-04T04:02:48.529016Z",
     "shell.execute_reply": "2023-12-04T04:02:48.528211Z"
    },
    "papermill": {
     "duration": 0.013631,
     "end_time": "2023-12-04T04:02:48.530893",
     "exception": false,
     "start_time": "2023-12-04T04:02:48.517262",
     "status": "completed"
    },
    "tags": []
   },
   "outputs": [
    {
     "data": {
      "text/plain": [
       "dtype('uint8')"
      ]
     },
     "execution_count": 6,
     "metadata": {},
     "output_type": "execute_result"
    }
   ],
   "source": [
    "X_test.dtype"
   ]
  },
  {
   "cell_type": "code",
   "execution_count": 7,
   "id": "92dd9c7c",
   "metadata": {
    "execution": {
     "iopub.execute_input": "2023-12-04T04:02:48.542911Z",
     "iopub.status.busy": "2023-12-04T04:02:48.542649Z",
     "iopub.status.idle": "2023-12-04T04:02:48.547846Z",
     "shell.execute_reply": "2023-12-04T04:02:48.547010Z"
    },
    "papermill": {
     "duration": 0.013273,
     "end_time": "2023-12-04T04:02:48.549713",
     "exception": false,
     "start_time": "2023-12-04T04:02:48.536440",
     "status": "completed"
    },
    "tags": []
   },
   "outputs": [
    {
     "data": {
      "text/plain": [
       "(56259,)"
      ]
     },
     "execution_count": 7,
     "metadata": {},
     "output_type": "execute_result"
    }
   ],
   "source": [
    "y_train.shape"
   ]
  },
  {
   "cell_type": "code",
   "execution_count": 8,
   "id": "5af9eef4",
   "metadata": {
    "execution": {
     "iopub.execute_input": "2023-12-04T04:02:48.561837Z",
     "iopub.status.busy": "2023-12-04T04:02:48.561599Z",
     "iopub.status.idle": "2023-12-04T04:02:48.566697Z",
     "shell.execute_reply": "2023-12-04T04:02:48.565729Z"
    },
    "papermill": {
     "duration": 0.013254,
     "end_time": "2023-12-04T04:02:48.568662",
     "exception": false,
     "start_time": "2023-12-04T04:02:48.555408",
     "status": "completed"
    },
    "tags": []
   },
   "outputs": [
    {
     "data": {
      "text/plain": [
       "dtype('int64')"
      ]
     },
     "execution_count": 8,
     "metadata": {},
     "output_type": "execute_result"
    }
   ],
   "source": [
    "y_train.dtype"
   ]
  },
  {
   "cell_type": "code",
   "execution_count": 9,
   "id": "203d426c",
   "metadata": {
    "execution": {
     "iopub.execute_input": "2023-12-04T04:02:48.582092Z",
     "iopub.status.busy": "2023-12-04T04:02:48.581816Z",
     "iopub.status.idle": "2023-12-04T04:02:50.729081Z",
     "shell.execute_reply": "2023-12-04T04:02:50.728210Z"
    },
    "papermill": {
     "duration": 2.156911,
     "end_time": "2023-12-04T04:02:50.731575",
     "exception": false,
     "start_time": "2023-12-04T04:02:48.574664",
     "status": "completed"
    },
    "tags": []
   },
   "outputs": [],
   "source": [
    "#scaling pixel intensities down to the  0-1 range by dividing them by 255 (RGB coefficient...)\n",
    "X_train, X_test = X_train / 255., X_test / 255."
   ]
  },
  {
   "cell_type": "code",
   "execution_count": 10,
   "id": "0271207e",
   "metadata": {
    "execution": {
     "iopub.execute_input": "2023-12-04T04:02:50.745530Z",
     "iopub.status.busy": "2023-12-04T04:02:50.745250Z",
     "iopub.status.idle": "2023-12-04T04:02:52.934739Z",
     "shell.execute_reply": "2023-12-04T04:02:52.933615Z"
    },
    "papermill": {
     "duration": 2.199181,
     "end_time": "2023-12-04T04:02:52.937318",
     "exception": false,
     "start_time": "2023-12-04T04:02:50.738137",
     "status": "completed"
    },
    "tags": []
   },
   "outputs": [],
   "source": [
    "# Data augmentation\n",
    "datagen = tf.keras.preprocessing.image.ImageDataGenerator(\n",
    "    rotation_range=20,\n",
    "    width_shift_range=0.2,\n",
    "    height_shift_range=0.2,\n",
    "    horizontal_flip=True\n",
    ")\n",
    "datagen.fit(X_train)"
   ]
  },
  {
   "cell_type": "code",
   "execution_count": 11,
   "id": "0e9794f5",
   "metadata": {
    "execution": {
     "iopub.execute_input": "2023-12-04T04:02:52.951620Z",
     "iopub.status.busy": "2023-12-04T04:02:52.950973Z",
     "iopub.status.idle": "2023-12-04T04:02:53.155779Z",
     "shell.execute_reply": "2023-12-04T04:02:53.154750Z"
    },
    "papermill": {
     "duration": 0.214436,
     "end_time": "2023-12-04T04:02:53.158119",
     "exception": false,
     "start_time": "2023-12-04T04:02:52.943683",
     "status": "completed"
    },
    "tags": []
   },
   "outputs": [],
   "source": [
    "from functools import partial\n",
    "\n",
    "DefaultConv2D = partial(tf.keras.layers.Conv2D, kernel_size=3, padding=\"same\",\n",
    "                       activation=\"relu\", kernel_initializer=\"he_normal\")\n",
    "model = tf.keras.Sequential([                                            #Creating Sequential model\n",
    "    DefaultConv2D(filters=64, kernel_size=7, input_shape=[64, 64, 3]),   #First layer is DefaultConv2D with 64 larger filters, also specifying input specs for images\n",
    "    tf.keras.layers.MaxPool2D(), # adding max pooling layer that uses the default pool size of 2\n",
    "    DefaultConv2D(filters=128),  # two convolutional layers followed by a max pooling layer... TWICE\n",
    "    DefaultConv2D(filters=128),\n",
    "    tf.keras.layers.MaxPool2D(),\n",
    "    DefaultConv2D(filters=256),\n",
    "    DefaultConv2D(filters=256),  # we're doubling number of filters as we climb up the CNN, as there are many ways to combine the low-level features into high-level features...\n",
    "    tf.keras.layers.MaxPool2D(),\n",
    "    tf.keras.layers.Flatten(),   # Flattening it out\n",
    "    tf.keras.layers.Dense(units=128, activation=\"relu\",\n",
    "                         kernel_initializer=\"he_normal\"),            #fully connected network consists of two hidden dense layers and a dense output layer\n",
    "    tf.keras.layers.Dropout(0.5),                           #dropout layers ensure we reduce overfitting\n",
    "    tf.keras.layers.Dense(units=64, activation=\"relu\",\n",
    "                         kernel_initializer=\"he_normal\"),\n",
    "    tf.keras.layers.Dropout(0.5),\n",
    "    tf.keras.layers.Dense(units=12, activation=\"softmax\")     #12 types of products, and it's classfication (so softmax...)\n",
    "])"
   ]
  },
  {
   "cell_type": "code",
   "execution_count": 12,
   "id": "92f34fd0",
   "metadata": {
    "execution": {
     "iopub.execute_input": "2023-12-04T04:02:53.171306Z",
     "iopub.status.busy": "2023-12-04T04:02:53.170666Z",
     "iopub.status.idle": "2023-12-04T04:02:53.210969Z",
     "shell.execute_reply": "2023-12-04T04:02:53.209974Z"
    },
    "papermill": {
     "duration": 0.059804,
     "end_time": "2023-12-04T04:02:53.223835",
     "exception": false,
     "start_time": "2023-12-04T04:02:53.164031",
     "status": "completed"
    },
    "tags": []
   },
   "outputs": [
    {
     "name": "stdout",
     "output_type": "stream",
     "text": [
      "Model: \"sequential\"\n",
      "_________________________________________________________________\n",
      " Layer (type)                Output Shape              Param #   \n",
      "=================================================================\n",
      " conv2d (Conv2D)             (None, 64, 64, 64)        9472      \n",
      "                                                                 \n",
      " max_pooling2d (MaxPooling2  (None, 32, 32, 64)        0         \n",
      " D)                                                              \n",
      "                                                                 \n",
      " conv2d_1 (Conv2D)           (None, 32, 32, 128)       73856     \n",
      "                                                                 \n",
      " conv2d_2 (Conv2D)           (None, 32, 32, 128)       147584    \n",
      "                                                                 \n",
      " max_pooling2d_1 (MaxPoolin  (None, 16, 16, 128)       0         \n",
      " g2D)                                                            \n",
      "                                                                 \n",
      " conv2d_3 (Conv2D)           (None, 16, 16, 256)       295168    \n",
      "                                                                 \n",
      " conv2d_4 (Conv2D)           (None, 16, 16, 256)       590080    \n",
      "                                                                 \n",
      " max_pooling2d_2 (MaxPoolin  (None, 8, 8, 256)         0         \n",
      " g2D)                                                            \n",
      "                                                                 \n",
      " flatten (Flatten)           (None, 16384)             0         \n",
      "                                                                 \n",
      " dense (Dense)               (None, 128)               2097280   \n",
      "                                                                 \n",
      " dropout (Dropout)           (None, 128)               0         \n",
      "                                                                 \n",
      " dense_1 (Dense)             (None, 64)                8256      \n",
      "                                                                 \n",
      " dropout_1 (Dropout)         (None, 64)                0         \n",
      "                                                                 \n",
      " dense_2 (Dense)             (None, 12)                780       \n",
      "                                                                 \n",
      "=================================================================\n",
      "Total params: 3222476 (12.29 MB)\n",
      "Trainable params: 3222476 (12.29 MB)\n",
      "Non-trainable params: 0 (0.00 Byte)\n",
      "_________________________________________________________________\n"
     ]
    }
   ],
   "source": [
    "# displaying all of our model's layers...\n",
    "model.summary()"
   ]
  },
  {
   "cell_type": "code",
   "execution_count": 13,
   "id": "1b464a28",
   "metadata": {
    "execution": {
     "iopub.execute_input": "2023-12-04T04:02:53.244625Z",
     "iopub.status.busy": "2023-12-04T04:02:53.244344Z",
     "iopub.status.idle": "2023-12-04T04:02:53.259577Z",
     "shell.execute_reply": "2023-12-04T04:02:53.258906Z"
    },
    "papermill": {
     "duration": 0.027004,
     "end_time": "2023-12-04T04:02:53.261428",
     "exception": false,
     "start_time": "2023-12-04T04:02:53.234424",
     "status": "completed"
    },
    "tags": []
   },
   "outputs": [],
   "source": [
    "# Compiling the model\n",
    "model.compile(optimizer=tf.keras.optimizers.Adam(lr=0.001),\n",
    "              loss='sparse_categorical_crossentropy',\n",
    "              metrics=['accuracy'])\n",
    "# specifying loss function and optimizer to use as well\n",
    "# we're using sparse_categorical_crossentrophy as we have sparse labels with exclusive classes.\n",
    "# using stochastic gradient descent to train model with backpropogation\n",
    "# \"accuracy\" because this is a CLASSIFIER"
   ]
  },
  {
   "cell_type": "code",
   "execution_count": 14,
   "id": "6602b0b7",
   "metadata": {
    "execution": {
     "iopub.execute_input": "2023-12-04T04:02:53.279743Z",
     "iopub.status.busy": "2023-12-04T04:02:53.279475Z",
     "iopub.status.idle": "2023-12-04T06:23:03.697901Z",
     "shell.execute_reply": "2023-12-04T06:23:03.697069Z"
    },
    "papermill": {
     "duration": 8410.429852,
     "end_time": "2023-12-04T06:23:03.699961",
     "exception": false,
     "start_time": "2023-12-04T04:02:53.270109",
     "status": "completed"
    },
    "tags": []
   },
   "outputs": [
    {
     "name": "stdout",
     "output_type": "stream",
     "text": [
      "Epoch 1/120\n",
      "1759/1759 [==============================] - 86s 42ms/step - loss: 2.4868 - accuracy: 0.0940\n",
      "Epoch 2/120\n",
      "1759/1759 [==============================] - 74s 42ms/step - loss: 2.4178 - accuracy: 0.1405\n",
      "Epoch 3/120\n",
      "1759/1759 [==============================] - 72s 41ms/step - loss: 2.3649 - accuracy: 0.1743\n",
      "Epoch 4/120\n",
      "1759/1759 [==============================] - 72s 41ms/step - loss: 2.2948 - accuracy: 0.2100\n",
      "Epoch 5/120\n",
      "1759/1759 [==============================] - 73s 41ms/step - loss: 2.2296 - accuracy: 0.2360\n",
      "Epoch 6/120\n",
      "1759/1759 [==============================] - 71s 40ms/step - loss: 2.1910 - accuracy: 0.2526\n",
      "Epoch 7/120\n",
      "1759/1759 [==============================] - 71s 40ms/step - loss: 2.1656 - accuracy: 0.2626\n",
      "Epoch 8/120\n",
      "1759/1759 [==============================] - 71s 40ms/step - loss: 2.1440 - accuracy: 0.2727\n",
      "Epoch 9/120\n",
      "1759/1759 [==============================] - 71s 40ms/step - loss: 2.1295 - accuracy: 0.2808\n",
      "Epoch 10/120\n",
      "1759/1759 [==============================] - 71s 40ms/step - loss: 2.1173 - accuracy: 0.2865\n",
      "Epoch 11/120\n",
      "1759/1759 [==============================] - 71s 40ms/step - loss: 2.0967 - accuracy: 0.2949\n",
      "Epoch 12/120\n",
      "1759/1759 [==============================] - 70s 40ms/step - loss: 2.0816 - accuracy: 0.3025\n",
      "Epoch 13/120\n",
      "1759/1759 [==============================] - 71s 41ms/step - loss: 2.0733 - accuracy: 0.3047\n",
      "Epoch 14/120\n",
      "1759/1759 [==============================] - 71s 40ms/step - loss: 2.0600 - accuracy: 0.3081\n",
      "Epoch 15/120\n",
      "1759/1759 [==============================] - 71s 40ms/step - loss: 2.0473 - accuracy: 0.3162\n",
      "Epoch 16/120\n",
      "1759/1759 [==============================] - 71s 40ms/step - loss: 2.0381 - accuracy: 0.3220\n",
      "Epoch 17/120\n",
      "1759/1759 [==============================] - 70s 40ms/step - loss: 2.0292 - accuracy: 0.3256\n",
      "Epoch 18/120\n",
      "1759/1759 [==============================] - 71s 40ms/step - loss: 2.0149 - accuracy: 0.3305\n",
      "Epoch 19/120\n",
      "1759/1759 [==============================] - 71s 40ms/step - loss: 2.0095 - accuracy: 0.3330\n",
      "Epoch 20/120\n",
      "1759/1759 [==============================] - 71s 40ms/step - loss: 2.0017 - accuracy: 0.3359\n",
      "Epoch 21/120\n",
      "1759/1759 [==============================] - 70s 40ms/step - loss: 1.9981 - accuracy: 0.3427\n",
      "Epoch 22/120\n",
      "1759/1759 [==============================] - 70s 40ms/step - loss: 1.9863 - accuracy: 0.3429\n",
      "Epoch 23/120\n",
      "1759/1759 [==============================] - 71s 40ms/step - loss: 1.9799 - accuracy: 0.3460\n",
      "Epoch 24/120\n",
      "1759/1759 [==============================] - 71s 40ms/step - loss: 1.9680 - accuracy: 0.3489\n",
      "Epoch 25/120\n",
      "1759/1759 [==============================] - 70s 40ms/step - loss: 1.9643 - accuracy: 0.3526\n",
      "Epoch 26/120\n",
      "1759/1759 [==============================] - 70s 40ms/step - loss: 1.9603 - accuracy: 0.3550\n",
      "Epoch 27/120\n",
      "1759/1759 [==============================] - 71s 40ms/step - loss: 1.9511 - accuracy: 0.3605\n",
      "Epoch 28/120\n",
      "1759/1759 [==============================] - 72s 41ms/step - loss: 1.9406 - accuracy: 0.3625\n",
      "Epoch 29/120\n",
      "1759/1759 [==============================] - 71s 40ms/step - loss: 1.9433 - accuracy: 0.3611\n",
      "Epoch 30/120\n",
      "1759/1759 [==============================] - 70s 40ms/step - loss: 1.9368 - accuracy: 0.3649\n",
      "Epoch 31/120\n",
      "1759/1759 [==============================] - 70s 40ms/step - loss: 1.9283 - accuracy: 0.3664\n",
      "Epoch 32/120\n",
      "1759/1759 [==============================] - 71s 40ms/step - loss: 1.9287 - accuracy: 0.3680\n",
      "Epoch 33/120\n",
      "1759/1759 [==============================] - 70s 40ms/step - loss: 1.9174 - accuracy: 0.3701\n",
      "Epoch 34/120\n",
      "1759/1759 [==============================] - 71s 40ms/step - loss: 1.9133 - accuracy: 0.3731\n",
      "Epoch 35/120\n",
      "1759/1759 [==============================] - 71s 40ms/step - loss: 1.9019 - accuracy: 0.3779\n",
      "Epoch 36/120\n",
      "1759/1759 [==============================] - 71s 40ms/step - loss: 1.9073 - accuracy: 0.3767\n",
      "Epoch 37/120\n",
      "1759/1759 [==============================] - 70s 40ms/step - loss: 1.9008 - accuracy: 0.3790\n",
      "Epoch 38/120\n",
      "1759/1759 [==============================] - 71s 40ms/step - loss: 1.8891 - accuracy: 0.3809\n",
      "Epoch 39/120\n",
      "1759/1759 [==============================] - 70s 40ms/step - loss: 1.8888 - accuracy: 0.3827\n",
      "Epoch 40/120\n",
      "1759/1759 [==============================] - 71s 40ms/step - loss: 1.8805 - accuracy: 0.3858\n",
      "Epoch 41/120\n",
      "1759/1759 [==============================] - 68s 39ms/step - loss: 1.8758 - accuracy: 0.3898\n",
      "Epoch 42/120\n",
      "1759/1759 [==============================] - 68s 39ms/step - loss: 1.8798 - accuracy: 0.3857\n",
      "Epoch 43/120\n",
      "1759/1759 [==============================] - 68s 39ms/step - loss: 1.8779 - accuracy: 0.3853\n",
      "Epoch 44/120\n",
      "1759/1759 [==============================] - 69s 39ms/step - loss: 1.8661 - accuracy: 0.3914\n",
      "Epoch 45/120\n",
      "1759/1759 [==============================] - 69s 39ms/step - loss: 1.8715 - accuracy: 0.3898\n",
      "Epoch 46/120\n",
      "1759/1759 [==============================] - 68s 38ms/step - loss: 1.8610 - accuracy: 0.3905\n",
      "Epoch 47/120\n",
      "1759/1759 [==============================] - 68s 39ms/step - loss: 1.8562 - accuracy: 0.3959\n",
      "Epoch 48/120\n",
      "1759/1759 [==============================] - 68s 39ms/step - loss: 1.8565 - accuracy: 0.3975\n",
      "Epoch 49/120\n",
      "1759/1759 [==============================] - 69s 39ms/step - loss: 1.8521 - accuracy: 0.3967\n",
      "Epoch 50/120\n",
      "1759/1759 [==============================] - 69s 39ms/step - loss: 1.8517 - accuracy: 0.3980\n",
      "Epoch 51/120\n",
      "1759/1759 [==============================] - 70s 40ms/step - loss: 1.8517 - accuracy: 0.3975\n",
      "Epoch 52/120\n",
      "1759/1759 [==============================] - 69s 39ms/step - loss: 1.8569 - accuracy: 0.3964\n",
      "Epoch 53/120\n",
      "1759/1759 [==============================] - 71s 40ms/step - loss: 1.8438 - accuracy: 0.4020\n",
      "Epoch 54/120\n",
      "1759/1759 [==============================] - 72s 41ms/step - loss: 1.8550 - accuracy: 0.3979\n",
      "Epoch 55/120\n",
      "1759/1759 [==============================] - 72s 41ms/step - loss: 1.8359 - accuracy: 0.4048\n",
      "Epoch 56/120\n",
      "1759/1759 [==============================] - 70s 40ms/step - loss: 1.8403 - accuracy: 0.4001\n",
      "Epoch 57/120\n",
      "1759/1759 [==============================] - 72s 41ms/step - loss: 1.8350 - accuracy: 0.4057\n",
      "Epoch 58/120\n",
      "1759/1759 [==============================] - 70s 40ms/step - loss: 1.8294 - accuracy: 0.4049\n",
      "Epoch 59/120\n",
      "1759/1759 [==============================] - 70s 40ms/step - loss: 1.8360 - accuracy: 0.4033\n",
      "Epoch 60/120\n",
      "1759/1759 [==============================] - 70s 40ms/step - loss: 1.8300 - accuracy: 0.4049\n",
      "Epoch 61/120\n",
      "1759/1759 [==============================] - 70s 40ms/step - loss: 1.8270 - accuracy: 0.4069\n",
      "Epoch 62/120\n",
      "1759/1759 [==============================] - 69s 39ms/step - loss: 1.8374 - accuracy: 0.4030\n",
      "Epoch 63/120\n",
      "1759/1759 [==============================] - 70s 40ms/step - loss: 1.8299 - accuracy: 0.4088\n",
      "Epoch 64/120\n",
      "1759/1759 [==============================] - 71s 40ms/step - loss: 1.8254 - accuracy: 0.4071\n",
      "Epoch 65/120\n",
      "1759/1759 [==============================] - 70s 40ms/step - loss: 1.8288 - accuracy: 0.4101\n",
      "Epoch 66/120\n",
      "1759/1759 [==============================] - 69s 39ms/step - loss: 1.8216 - accuracy: 0.4096\n",
      "Epoch 67/120\n",
      "1759/1759 [==============================] - 69s 39ms/step - loss: 1.8193 - accuracy: 0.4073\n",
      "Epoch 68/120\n",
      "1759/1759 [==============================] - 70s 40ms/step - loss: 1.8142 - accuracy: 0.4113\n",
      "Epoch 69/120\n",
      "1759/1759 [==============================] - 70s 40ms/step - loss: 1.8260 - accuracy: 0.4104\n",
      "Epoch 70/120\n",
      "1759/1759 [==============================] - 70s 40ms/step - loss: 1.8213 - accuracy: 0.4092\n",
      "Epoch 71/120\n",
      "1759/1759 [==============================] - 70s 40ms/step - loss: 1.8101 - accuracy: 0.4147\n",
      "Epoch 72/120\n",
      "1759/1759 [==============================] - 69s 39ms/step - loss: 1.8039 - accuracy: 0.4164\n",
      "Epoch 73/120\n",
      "1759/1759 [==============================] - 70s 40ms/step - loss: 1.8112 - accuracy: 0.4142\n",
      "Epoch 74/120\n",
      "1759/1759 [==============================] - 71s 40ms/step - loss: 1.8043 - accuracy: 0.4140\n",
      "Epoch 75/120\n",
      "1759/1759 [==============================] - 71s 40ms/step - loss: 1.8082 - accuracy: 0.4147\n",
      "Epoch 76/120\n",
      "1759/1759 [==============================] - 70s 40ms/step - loss: 1.8109 - accuracy: 0.4144\n",
      "Epoch 77/120\n",
      "1759/1759 [==============================] - 70s 40ms/step - loss: 1.8117 - accuracy: 0.4135\n",
      "Epoch 78/120\n",
      "1759/1759 [==============================] - 70s 40ms/step - loss: 1.8127 - accuracy: 0.4129\n",
      "Epoch 79/120\n",
      "1759/1759 [==============================] - 69s 39ms/step - loss: 1.8108 - accuracy: 0.4162\n",
      "Epoch 80/120\n",
      "1759/1759 [==============================] - 69s 39ms/step - loss: 1.8013 - accuracy: 0.4206\n",
      "Epoch 81/120\n",
      "1759/1759 [==============================] - 70s 40ms/step - loss: 1.8043 - accuracy: 0.4176\n",
      "Epoch 82/120\n",
      "1759/1759 [==============================] - 70s 40ms/step - loss: 1.8044 - accuracy: 0.4168\n",
      "Epoch 83/120\n",
      "1759/1759 [==============================] - 69s 39ms/step - loss: 1.7993 - accuracy: 0.4207\n",
      "Epoch 84/120\n",
      "1759/1759 [==============================] - 70s 40ms/step - loss: 1.7938 - accuracy: 0.4230\n",
      "Epoch 85/120\n",
      "1759/1759 [==============================] - 69s 39ms/step - loss: 1.8085 - accuracy: 0.4163\n",
      "Epoch 86/120\n",
      "1759/1759 [==============================] - 69s 39ms/step - loss: 1.7949 - accuracy: 0.4211\n",
      "Epoch 87/120\n",
      "1759/1759 [==============================] - 71s 40ms/step - loss: 1.8019 - accuracy: 0.4191\n",
      "Epoch 88/120\n",
      "1759/1759 [==============================] - 70s 40ms/step - loss: 1.7964 - accuracy: 0.4216\n",
      "Epoch 89/120\n",
      "1759/1759 [==============================] - 70s 40ms/step - loss: 1.7917 - accuracy: 0.4220\n",
      "Epoch 90/120\n",
      "1759/1759 [==============================] - 69s 39ms/step - loss: 1.7979 - accuracy: 0.4239\n",
      "Epoch 91/120\n",
      "1759/1759 [==============================] - 69s 39ms/step - loss: 1.7838 - accuracy: 0.4230\n",
      "Epoch 92/120\n",
      "1759/1759 [==============================] - 68s 39ms/step - loss: 1.7885 - accuracy: 0.4242\n",
      "Epoch 93/120\n",
      "1759/1759 [==============================] - 68s 38ms/step - loss: 1.7964 - accuracy: 0.4225\n",
      "Epoch 94/120\n",
      "1759/1759 [==============================] - 68s 39ms/step - loss: 1.7938 - accuracy: 0.4202\n",
      "Epoch 95/120\n",
      "1759/1759 [==============================] - 67s 38ms/step - loss: 1.7923 - accuracy: 0.4224\n",
      "Epoch 96/120\n",
      "1759/1759 [==============================] - 68s 39ms/step - loss: 1.7907 - accuracy: 0.4211\n",
      "Epoch 97/120\n",
      "1759/1759 [==============================] - 68s 38ms/step - loss: 1.7869 - accuracy: 0.4219\n",
      "Epoch 98/120\n",
      "1759/1759 [==============================] - 67s 38ms/step - loss: 1.7827 - accuracy: 0.4250\n",
      "Epoch 99/120\n",
      "1759/1759 [==============================] - 68s 39ms/step - loss: 1.7855 - accuracy: 0.4255\n",
      "Epoch 100/120\n",
      "1759/1759 [==============================] - 68s 39ms/step - loss: 1.7752 - accuracy: 0.4264\n",
      "Epoch 101/120\n",
      "1759/1759 [==============================] - 68s 38ms/step - loss: 1.7842 - accuracy: 0.4248\n",
      "Epoch 102/120\n",
      "1759/1759 [==============================] - 69s 39ms/step - loss: 1.7941 - accuracy: 0.4238\n",
      "Epoch 103/120\n",
      "1759/1759 [==============================] - 69s 39ms/step - loss: 1.7957 - accuracy: 0.4217\n",
      "Epoch 104/120\n",
      "1759/1759 [==============================] - 69s 39ms/step - loss: 1.7840 - accuracy: 0.4242\n",
      "Epoch 105/120\n",
      "1759/1759 [==============================] - 69s 39ms/step - loss: 1.7898 - accuracy: 0.4246\n",
      "Epoch 106/120\n",
      "1759/1759 [==============================] - 69s 39ms/step - loss: 1.7891 - accuracy: 0.4261\n",
      "Epoch 107/120\n",
      "1759/1759 [==============================] - 70s 40ms/step - loss: 1.7748 - accuracy: 0.4294\n",
      "Epoch 108/120\n",
      "1759/1759 [==============================] - 69s 39ms/step - loss: 1.7940 - accuracy: 0.4229\n",
      "Epoch 109/120\n",
      "1759/1759 [==============================] - 69s 39ms/step - loss: 1.7899 - accuracy: 0.4243\n",
      "Epoch 110/120\n",
      "1759/1759 [==============================] - 69s 39ms/step - loss: 1.7770 - accuracy: 0.4263\n",
      "Epoch 111/120\n",
      "1759/1759 [==============================] - 69s 39ms/step - loss: 1.7752 - accuracy: 0.4303\n",
      "Epoch 112/120\n",
      "1759/1759 [==============================] - 69s 39ms/step - loss: 1.7785 - accuracy: 0.4314\n",
      "Epoch 113/120\n",
      "1759/1759 [==============================] - 71s 40ms/step - loss: 1.7802 - accuracy: 0.4292\n",
      "Epoch 114/120\n",
      "1759/1759 [==============================] - 70s 40ms/step - loss: 1.7771 - accuracy: 0.4275\n",
      "Epoch 115/120\n",
      "1759/1759 [==============================] - 71s 40ms/step - loss: 1.7742 - accuracy: 0.4318\n",
      "Epoch 116/120\n",
      "1759/1759 [==============================] - 70s 40ms/step - loss: 1.7740 - accuracy: 0.4324\n",
      "Epoch 117/120\n",
      "1759/1759 [==============================] - 69s 39ms/step - loss: 1.7793 - accuracy: 0.4273\n",
      "Epoch 118/120\n",
      "1759/1759 [==============================] - 69s 39ms/step - loss: 1.7786 - accuracy: 0.4300\n",
      "Epoch 119/120\n",
      "1759/1759 [==============================] - 69s 39ms/step - loss: 1.7808 - accuracy: 0.4277\n",
      "Epoch 120/120\n",
      "1759/1759 [==============================] - 69s 39ms/step - loss: 1.7717 - accuracy: 0.4313\n"
     ]
    }
   ],
   "source": [
    "# training and evaluating the model\n",
    "history = model.fit(datagen.flow(X_train, y_train, batch_size=32), epochs=120)"
   ]
  },
  {
   "cell_type": "code",
   "execution_count": 15,
   "id": "e96b215f",
   "metadata": {
    "execution": {
     "iopub.execute_input": "2023-12-04T06:23:21.785229Z",
     "iopub.status.busy": "2023-12-04T06:23:21.784818Z",
     "iopub.status.idle": "2023-12-04T06:23:22.130475Z",
     "shell.execute_reply": "2023-12-04T06:23:22.129546Z"
    },
    "papermill": {
     "duration": 9.150675,
     "end_time": "2023-12-04T06:23:22.132550",
     "exception": false,
     "start_time": "2023-12-04T06:23:12.981875",
     "status": "completed"
    },
    "tags": []
   },
   "outputs": [
    {
     "data": {
      "image/png": "[encoded data removed]",
      "text/plain": [
       "<Figure size 800x500 with 1 Axes>"
      ]
     },
     "metadata": {},
     "output_type": "display_data"
    }
   ],
   "source": [
    "# plotting the thing\n",
    "\n",
    "import matplotlib.pyplot as plt\n",
    "import pandas as pd\n",
    "\n",
    "pd.DataFrame(history.history).plot(\n",
    "    figsize=(8,5), xlim=[0,75], ylim=[0,1], grid=True, xlabel=\"Epoch\",\n",
    "    style=[\"r--\", \"r--\", \"b-\", \"b-*\"])\n",
    "plt.show()"
   ]
  },
  {
   "cell_type": "code",
   "execution_count": 16,
   "id": "bcbf59e7",
   "metadata": {
    "execution": {
     "iopub.execute_input": "2023-12-04T06:23:40.242996Z",
     "iopub.status.busy": "2023-12-04T06:23:40.242370Z",
     "iopub.status.idle": "2023-12-04T06:23:44.280649Z",
     "shell.execute_reply": "2023-12-04T06:23:44.279698Z"
    },
    "papermill": {
     "duration": 12.971825,
     "end_time": "2023-12-04T06:23:44.282841",
     "exception": false,
     "start_time": "2023-12-04T06:23:31.311016",
     "status": "completed"
    },
    "tags": []
   },
   "outputs": [
    {
     "name": "stdout",
     "output_type": "stream",
     "text": [
      "338/338 [==============================] - 2s 6ms/step\n"
     ]
    }
   ],
   "source": [
    "import numpy as np\n",
    "\n",
    "# Make predictions with the model on an unshuffled test dataset\n",
    "predictions = model.predict(X_test)\n",
    "\n",
    "predicted_classes = np.argmax(predictions, axis=1) \n",
    "\n",
    "N_test = X_test.shape[0]\n",
    "df = pd.DataFrame({\n",
    "    \"Index\": np.arange(N_test),\n",
    "    \"Label\": predicted_classes\n",
    "})\n",
    "df.to_csv(\"submission.csv\", index=False)"
   ]
  }
 ],
 "metadata": {
  "kaggle": {
   "accelerator": "nvidiaTeslaT4",
   "dataSources": [
    {
     "databundleVersionId": 6816111,
     "sourceId": 62448,
     "sourceType": "competition"
    }
   ],
   "dockerImageVersionId": 30588,
   "isGpuEnabled": true,
   "isInternetEnabled": true,
   "language": "python",
   "sourceType": "notebook"
  },
  "kernelspec": {
   "display_name": "Python 3",
   "language": "python",
   "name": "python3"
  },
  "language_info": {
   "codemirror_mode": {
    "name": "ipython",
    "version": 3
   },
   "file_extension": ".py",
   "mimetype": "text/x-python",
   "name": "python",
   "nbconvert_exporter": "python",
   "pygments_lexer": "ipython3",
   "version": "3.10.12"
  },
  "papermill": {
   "default_parameters": {},
   "duration": 8501.733903,
   "end_time": "2023-12-04T06:23:56.511635",
   "environment_variables": {},
   "exception": null,
   "input_path": "__notebook__.ipynb",
   "output_path": "__notebook__.ipynb",
   "parameters": {},
   "start_time": "2023-12-04T04:02:14.777732",
   "version": "2.4.0"
  }
 },
 "nbformat": 4,
 "nbformat_minor": 5
}
