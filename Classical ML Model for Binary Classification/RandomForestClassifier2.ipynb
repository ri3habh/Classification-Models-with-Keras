{
 "cells": [
  {
   "cell_type": "code",
   "execution_count": 1,
   "id": "2f054152",
   "metadata": {
    "_cell_guid": "b1076dfc-b9ad-4769-8c92-a6c4dae69d19",
    "_uuid": "8f2839f25d086af736a60e9eeb907d3b93b6e0e5",
    "execution": {
     "iopub.execute_input": "2023-12-02T04:11:20.582737Z",
     "iopub.status.busy": "2023-12-02T04:11:20.582312Z",
     "iopub.status.idle": "2023-12-02T04:11:21.432964Z",
     "shell.execute_reply": "2023-12-02T04:11:21.431959Z"
    },
    "papermill": {
     "duration": 0.860447,
     "end_time": "2023-12-02T04:11:21.435731",
     "exception": false,
     "start_time": "2023-12-02T04:11:20.575284",
     "status": "completed"
    },
    "tags": []
   },
   "outputs": [
    {
     "name": "stdout",
     "output_type": "stream",
     "text": [
      "/kaggle/input/watai-open-project-f23-beginner-classical-ml/beginner_data_cml.npz\n"
     ]
    }
   ],
   "source": [
    "# This Python 3 environment comes with many helpful analytics libraries installed\n",
    "# It is defined by the kaggle/python Docker image: https://github.com/kaggle/docker-python\n",
    "# For example, here's several helpful packages to load\n",
    "\n",
    "import numpy as np # linear algebra\n",
    "import pandas as pd # data processing, CSV file I/O (e.g. pd.read_csv)\n",
    "\n",
    "# Input data files are available in the read-only \"../input/\" directory\n",
    "# For example, running this (by clicking run or pressing Shift+Enter) will list all files under the input directory\n",
    "\n",
    "import os\n",
    "for dirname, _, filenames in os.walk('/kaggle/input'):\n",
    "    for filename in filenames:\n",
    "        print(os.path.join(dirname, filename))\n",
    "\n",
    "# You can write up to 20GB to the current directory (/kaggle/working/) that gets preserved as output when you create a version using \"Save & Run All\" \n",
    "# You can also write temporary files to /kaggle/temp/, but they won't be saved outside of the current session"
   ]
  },
  {
   "cell_type": "code",
   "execution_count": 2,
   "id": "c2073976",
   "metadata": {
    "execution": {
     "iopub.execute_input": "2023-12-02T04:11:21.448450Z",
     "iopub.status.busy": "2023-12-02T04:11:21.448000Z",
     "iopub.status.idle": "2023-12-02T04:11:24.970432Z",
     "shell.execute_reply": "2023-12-02T04:11:24.969283Z"
    },
    "papermill": {
     "duration": 3.531364,
     "end_time": "2023-12-02T04:11:24.973093",
     "exception": false,
     "start_time": "2023-12-02T04:11:21.441729",
     "status": "completed"
    },
    "tags": []
   },
   "outputs": [
    {
     "name": "stderr",
     "output_type": "stream",
     "text": [
      "/opt/conda/lib/python3.10/site-packages/scipy/__init__.py:146: UserWarning: A NumPy version >=1.16.5 and <1.23.0 is required for this version of SciPy (detected version 1.23.5\n",
      "  warnings.warn(f\"A NumPy version >={np_minversion} and <{np_maxversion}\"\n"
     ]
    }
   ],
   "source": [
    "# IMPORT STATEMENTS...\n",
    "import numpy as np\n",
    "import xgboost as xgb\n",
    "\n",
    "from xgboost import XGBClassifier\n",
    "from sklearn.model_selection import cross_val_score\n",
    "from sklearn.model_selection import cross_val_predict\n",
    "from sklearn.metrics import precision_score, recall_score\n",
    "from sklearn.metrics import f1_score\n",
    "from sklearn.ensemble import RandomForestClassifier\n",
    "from sklearn.metrics import precision_recall_curve\n",
    "from sklearn.metrics import roc_auc_score\n",
    "import matplotlib.pyplot as plt\n",
    "from sklearn.model_selection import RandomizedSearchCV\n",
    "from scipy.stats import randint\n",
    "from sklearn.model_selection import KFold\n",
    "from sklearn.model_selection import GridSearchCV\n",
    "\n",
    "\n",
    "\n",
    "#LOADING DATA...\n",
    "with np.load(\"/kaggle/input/watai-open-project-f23-beginner-classical-ml/beginner_data_cml.npz\") as data:\n",
    "    X_train = data['train_images']  # Shape (8981, 64, 64, 3)\n",
    "    y_train = data['train_labels']  # Shape (8981,)\n",
    "    X_test = data['test_images']  # Shape (1800, 64, 64, 3)\n",
    "    # we don't have y_test because the labels for the test is the basis of the scoring in the competition...\n",
    "    \n",
    "#creating target vectors for the classification task...\n",
    "y_train_1 = (y_train == 1)"
   ]
  },
  {
   "cell_type": "code",
   "execution_count": 3,
   "id": "f6de36dd",
   "metadata": {
    "execution": {
     "iopub.execute_input": "2023-12-02T04:11:24.985808Z",
     "iopub.status.busy": "2023-12-02T04:11:24.985449Z",
     "iopub.status.idle": "2023-12-02T04:11:24.992040Z",
     "shell.execute_reply": "2023-12-02T04:11:24.991136Z"
    },
    "papermill": {
     "duration": 0.015922,
     "end_time": "2023-12-02T04:11:24.994745",
     "exception": false,
     "start_time": "2023-12-02T04:11:24.978823",
     "status": "completed"
    },
    "tags": []
   },
   "outputs": [
    {
     "name": "stdout",
     "output_type": "stream",
     "text": [
      "flattening training set...\n",
      "creating classifier...\n"
     ]
    }
   ],
   "source": [
    "#doing the training set alterations...\n",
    "print(\"flattening training set...\")\n",
    "# Reshape the image data to 2D\n",
    "X_train_flattened = X_train.reshape(X_train.shape[0], -1)  # Flatten each image\n",
    "# Make sure to apply the same reshaping procedure to the test data when you want to make predictions on it.\n",
    "\n",
    "print(\"creating classifier...\")\n",
    "# Reducing complexity\n",
    "#clf = RandomForestClassifier(n_estimators=500, max_leaf_nodes=16, n_jobs=-1)\n",
    "\n",
    "clf = XGBClassifier(n_estimators=500, max_depth=16, n_jobs=-1)\n"
   ]
  },
  {
   "cell_type": "code",
   "execution_count": 4,
   "id": "79227f51",
   "metadata": {
    "execution": {
     "iopub.execute_input": "2023-12-02T04:11:25.010522Z",
     "iopub.status.busy": "2023-12-02T04:11:25.010215Z",
     "iopub.status.idle": "2023-12-02T04:11:25.017852Z",
     "shell.execute_reply": "2023-12-02T04:11:25.016827Z"
    },
    "papermill": {
     "duration": 0.017765,
     "end_time": "2023-12-02T04:11:25.020080",
     "exception": false,
     "start_time": "2023-12-02T04:11:25.002315",
     "status": "completed"
    },
    "tags": []
   },
   "outputs": [],
   "source": [
    "n_splits = 5 # number of cross-validation splits\n",
    "\n",
    "#parameters for hyperparameter tuning...\n",
    "param_dist = {\n",
    "    'n_estimators': randint(100, 500),\n",
    "    'max_depth': randint(5, 20),\n",
    "    'learning_rate': [0.001, 0.01, 0.1, 0.2, 0.3],\n",
    "    # Add other XGBoost hyperparameters as needed\n",
    "}\n",
    "\n",
    "kf = KFold(n_splits=n_splits, shuffle=True, random_state=42)"
   ]
  },
  {
   "cell_type": "code",
   "execution_count": 5,
   "id": "c15b34af",
   "metadata": {
    "execution": {
     "iopub.execute_input": "2023-12-02T04:11:25.034715Z",
     "iopub.status.busy": "2023-12-02T04:11:25.033981Z",
     "iopub.status.idle": "2023-12-02T04:11:25.039988Z",
     "shell.execute_reply": "2023-12-02T04:11:25.038858Z"
    },
    "papermill": {
     "duration": 0.01697,
     "end_time": "2023-12-02T04:11:25.042943",
     "exception": false,
     "start_time": "2023-12-02T04:11:25.025973",
     "status": "completed"
    },
    "tags": []
   },
   "outputs": [
    {
     "name": "stdout",
     "output_type": "stream",
     "text": [
      "performing random search with 5-fold cross_validation...\n"
     ]
    }
   ],
   "source": [
    "print(\"performing random search with {}-fold cross_validation...\".format(n_splits))\n",
    "random_search= RandomizedSearchCV(clf, param_distributions=param_dist, n_iter=1, cv=kf, scoring='accuracy', n_jobs=-1, random_state=42)"
   ]
  },
  {
   "cell_type": "code",
   "execution_count": 6,
   "id": "5c1e1727",
   "metadata": {
    "execution": {
     "iopub.execute_input": "2023-12-02T04:11:25.055912Z",
     "iopub.status.busy": "2023-12-02T04:11:25.055241Z",
     "iopub.status.idle": "2023-12-02T07:16:08.663534Z",
     "shell.execute_reply": "2023-12-02T07:16:08.662446Z"
    },
    "papermill": {
     "duration": 11083.617969,
     "end_time": "2023-12-02T07:16:08.666494",
     "exception": false,
     "start_time": "2023-12-02T04:11:25.048525",
     "status": "completed"
    },
    "tags": []
   },
   "outputs": [
    {
     "name": "stdout",
     "output_type": "stream",
     "text": [
      "fitting random search to our data...\n"
     ]
    },
    {
     "name": "stderr",
     "output_type": "stream",
     "text": [
      "/opt/conda/lib/python3.10/site-packages/scipy/__init__.py:146: UserWarning: A NumPy version >=1.16.5 and <1.23.0 is required for this version of SciPy (detected version 1.23.5\n",
      "  warnings.warn(f\"A NumPy version >={np_minversion} and <{np_maxversion}\"\n",
      "/opt/conda/lib/python3.10/site-packages/scipy/__init__.py:146: UserWarning: A NumPy version >=1.16.5 and <1.23.0 is required for this version of SciPy (detected version 1.23.5\n",
      "  warnings.warn(f\"A NumPy version >={np_minversion} and <{np_maxversion}\"\n",
      "/opt/conda/lib/python3.10/site-packages/scipy/__init__.py:146: UserWarning: A NumPy version >=1.16.5 and <1.23.0 is required for this version of SciPy (detected version 1.23.5\n",
      "  warnings.warn(f\"A NumPy version >={np_minversion} and <{np_maxversion}\"\n",
      "/opt/conda/lib/python3.10/site-packages/scipy/__init__.py:146: UserWarning: A NumPy version >=1.16.5 and <1.23.0 is required for this version of SciPy (detected version 1.23.5\n",
      "  warnings.warn(f\"A NumPy version >={np_minversion} and <{np_maxversion}\"\n"
     ]
    },
    {
     "name": "stdout",
     "output_type": "stream",
     "text": [
      "0.8944439073784196 {'learning_rate': 0.2, 'max_depth': 17, 'n_estimators': 370}\n",
      "getting the best hyperparameters and model...\n",
      "training the best model on our data...\n",
      "getting the y predictions...\n"
     ]
    },
    {
     "data": {
      "text/plain": [
       "array([0, 0])"
      ]
     },
     "execution_count": 6,
     "metadata": {},
     "output_type": "execute_result"
    }
   ],
   "source": [
    "print(\"fitting random search to our data...\")\n",
    "# Fit the random search to your data\n",
    "random_search.fit(X_train_flattened, y_train_1)\n",
    "\n",
    "cv_results = random_search.cv_results_\n",
    "for mean_score, params in zip(cv_results[\"mean_test_score\"], cv_results[\"params\"]):\n",
    "    print(mean_score, params)\n",
    "\n",
    "print(\"getting the best hyperparameters and model...\")\n",
    "# Get the best hyperparameters and model\n",
    "best_params = random_search.best_params_\n",
    "best_model = random_search.best_estimator_\n",
    "\n",
    "print(\"training the best model on our data...\")\n",
    "# Train the best model on the training data\n",
    "best_model.fit(X_train_flattened, y_train_1)\n",
    "\n",
    "print(\"getting the y predictions...\")\n",
    "#dosen't have decision_function() method, so we need its predict_proba() method that returns class probabilties for each instance\n",
    "y_pred = best_model.predict(X_train_flattened)\n",
    "y_pred[:2]"
   ]
  },
  {
   "cell_type": "code",
   "execution_count": 7,
   "id": "b6f88bf7",
   "metadata": {
    "execution": {
     "iopub.execute_input": "2023-12-02T07:16:08.682816Z",
     "iopub.status.busy": "2023-12-02T07:16:08.682378Z",
     "iopub.status.idle": "2023-12-02T07:16:29.576092Z",
     "shell.execute_reply": "2023-12-02T07:16:29.575130Z"
    },
    "papermill": {
     "duration": 20.90439,
     "end_time": "2023-12-02T07:16:29.578347",
     "exception": false,
     "start_time": "2023-12-02T07:16:08.673957",
     "status": "completed"
    },
    "tags": []
   },
   "outputs": [
    {
     "data": {
      "image/png": "[encoded data removed]",
      "text/plain": [
       "<Figure size 1000x600 with 1 Axes>"
      ]
     },
     "metadata": {},
     "output_type": "display_data"
    }
   ],
   "source": [
    "#plotting important features\n",
    "feature_importance = best_model.feature_importances_\n",
    "n_features = X_train_flattened.shape[1]\n",
    "\n",
    "plt.figure(figsize=(10, 6))\n",
    "plt.bar(range(n_features), feature_importance, align=\"center\")\n",
    "plt.title(\"Feature Importance\")\n",
    "plt.xlabel(\"Feature Index\")\n",
    "plt.ylabel(\"Importance\")\n",
    "plt.show()"
   ]
  },
  {
   "cell_type": "code",
   "execution_count": 8,
   "id": "ff7fa1c7",
   "metadata": {
    "execution": {
     "iopub.execute_input": "2023-12-02T07:16:29.593002Z",
     "iopub.status.busy": "2023-12-02T07:16:29.592333Z",
     "iopub.status.idle": "2023-12-02T07:16:30.084367Z",
     "shell.execute_reply": "2023-12-02T07:16:30.083542Z"
    },
    "papermill": {
     "duration": 0.501748,
     "end_time": "2023-12-02T07:16:30.086819",
     "exception": false,
     "start_time": "2023-12-02T07:16:29.585071",
     "status": "completed"
    },
    "tags": []
   },
   "outputs": [],
   "source": [
    "# Calculate precision and recall at different probability thresholds\n",
    "y_scores = best_model.predict_proba(X_train_flattened)[:, 1]\n",
    "precisions, recalls, thresholds = precision_recall_curve(y_train_1, y_scores)"
   ]
  },
  {
   "cell_type": "code",
   "execution_count": 9,
   "id": "1c2e725a",
   "metadata": {
    "execution": {
     "iopub.execute_input": "2023-12-02T07:16:30.102070Z",
     "iopub.status.busy": "2023-12-02T07:16:30.101528Z",
     "iopub.status.idle": "2023-12-02T07:16:30.337703Z",
     "shell.execute_reply": "2023-12-02T07:16:30.336761Z"
    },
    "papermill": {
     "duration": 0.245848,
     "end_time": "2023-12-02T07:16:30.340007",
     "exception": false,
     "start_time": "2023-12-02T07:16:30.094159",
     "status": "completed"
    },
    "tags": []
   },
   "outputs": [
    {
     "data": {
      "image/png": "[encoded data removed]",
      "text/plain": [
       "<Figure size 800x600 with 1 Axes>"
      ]
     },
     "metadata": {},
     "output_type": "display_data"
    }
   ],
   "source": [
    "# Plot the precision-recall curve\n",
    "plt.figure(figsize=(8, 6))\n",
    "plt.plot(recalls, precisions, 'b-', linewidth=2)\n",
    "plt.xlabel('Recall')\n",
    "plt.ylabel('Precision')\n",
    "plt.title('Precision-Recall Curve')\n",
    "plt.grid(True)\n",
    "plt.show()"
   ]
  },
  {
   "cell_type": "code",
   "execution_count": 10,
   "id": "ce34ffa3",
   "metadata": {
    "execution": {
     "iopub.execute_input": "2023-12-02T07:16:30.356321Z",
     "iopub.status.busy": "2023-12-02T07:16:30.355426Z",
     "iopub.status.idle": "2023-12-02T07:16:30.368281Z",
     "shell.execute_reply": "2023-12-02T07:16:30.367110Z"
    },
    "papermill": {
     "duration": 0.023686,
     "end_time": "2023-12-02T07:16:30.370782",
     "exception": false,
     "start_time": "2023-12-02T07:16:30.347096",
     "status": "completed"
    },
    "tags": []
   },
   "outputs": [
    {
     "data": {
      "text/plain": [
       "1.0"
      ]
     },
     "execution_count": 10,
     "metadata": {},
     "output_type": "execute_result"
    }
   ],
   "source": [
    "f1_score(y_train_1, y_pred)"
   ]
  },
  {
   "cell_type": "code",
   "execution_count": 11,
   "id": "696fa7e2",
   "metadata": {
    "execution": {
     "iopub.execute_input": "2023-12-02T07:16:30.387535Z",
     "iopub.status.busy": "2023-12-02T07:16:30.386870Z",
     "iopub.status.idle": "2023-12-02T07:16:30.403925Z",
     "shell.execute_reply": "2023-12-02T07:16:30.402922Z"
    },
    "papermill": {
     "duration": 0.027828,
     "end_time": "2023-12-02T07:16:30.406123",
     "exception": false,
     "start_time": "2023-12-02T07:16:30.378295",
     "status": "completed"
    },
    "tags": []
   },
   "outputs": [
    {
     "data": {
      "text/plain": [
       "1.0"
      ]
     },
     "execution_count": 11,
     "metadata": {},
     "output_type": "execute_result"
    }
   ],
   "source": [
    "roc_auc_score(y_train_1, y_pred)"
   ]
  },
  {
   "cell_type": "code",
   "execution_count": 12,
   "id": "952b11ee",
   "metadata": {
    "execution": {
     "iopub.execute_input": "2023-12-02T07:16:30.422055Z",
     "iopub.status.busy": "2023-12-02T07:16:30.421472Z",
     "iopub.status.idle": "2023-12-02T07:16:30.432420Z",
     "shell.execute_reply": "2023-12-02T07:16:30.431547Z"
    },
    "papermill": {
     "duration": 0.021175,
     "end_time": "2023-12-02T07:16:30.434569",
     "exception": false,
     "start_time": "2023-12-02T07:16:30.413394",
     "status": "completed"
    },
    "tags": []
   },
   "outputs": [
    {
     "data": {
      "text/plain": [
       "1.0"
      ]
     },
     "execution_count": 12,
     "metadata": {},
     "output_type": "execute_result"
    }
   ],
   "source": [
    "precision_score(y_train_1, y_pred)"
   ]
  },
  {
   "cell_type": "code",
   "execution_count": 13,
   "id": "f10fd05b",
   "metadata": {
    "execution": {
     "iopub.execute_input": "2023-12-02T07:16:30.450628Z",
     "iopub.status.busy": "2023-12-02T07:16:30.450091Z",
     "iopub.status.idle": "2023-12-02T07:16:30.461824Z",
     "shell.execute_reply": "2023-12-02T07:16:30.460864Z"
    },
    "papermill": {
     "duration": 0.022118,
     "end_time": "2023-12-02T07:16:30.464015",
     "exception": false,
     "start_time": "2023-12-02T07:16:30.441897",
     "status": "completed"
    },
    "tags": []
   },
   "outputs": [
    {
     "data": {
      "text/plain": [
       "1.0"
      ]
     },
     "execution_count": 13,
     "metadata": {},
     "output_type": "execute_result"
    }
   ],
   "source": [
    "recall_score(y_train_1, y_pred)"
   ]
  },
  {
   "cell_type": "code",
   "execution_count": 14,
   "id": "ebdaa11c",
   "metadata": {
    "execution": {
     "iopub.execute_input": "2023-12-02T07:16:30.481505Z",
     "iopub.status.busy": "2023-12-02T07:16:30.481184Z",
     "iopub.status.idle": "2023-12-02T07:16:30.621860Z",
     "shell.execute_reply": "2023-12-02T07:16:30.620969Z"
    },
    "papermill": {
     "duration": 0.151924,
     "end_time": "2023-12-02T07:16:30.624468",
     "exception": false,
     "start_time": "2023-12-02T07:16:30.472544",
     "status": "completed"
    },
    "tags": []
   },
   "outputs": [],
   "source": [
    "# Reshape the image data to a 2D array (flattening)\n",
    "X_test_flattened = X_test.reshape(X_test.shape[0], -1)\n",
    "\n",
    "# Now you can make predictions\n",
    "predictions = best_model.predict(X_test_flattened)\n",
    "\n",
    "N_test = X_test.shape[0]\n",
    "df = pd.DataFrame({\n",
    "    \"Index\": np.arange(N_test),\n",
    "    \"Label\": predictions\n",
    "})\n",
    "df.to_csv(\"submission.csv\", index=False)"
   ]
  }
 ],
 "metadata": {
  "kaggle": {
   "accelerator": "nvidiaTeslaT4",
   "dataSources": [
    {
     "databundleVersionId": 6816110,
     "sourceId": 62696,
     "sourceType": "competition"
    }
   ],
   "dockerImageVersionId": 30558,
   "isGpuEnabled": true,
   "isInternetEnabled": true,
   "language": "python",
   "sourceType": "notebook"
  },
  "kernelspec": {
   "display_name": "Python 3",
   "language": "python",
   "name": "python3"
  },
  "language_info": {
   "codemirror_mode": {
    "name": "ipython",
    "version": 3
   },
   "file_extension": ".py",
   "mimetype": "text/x-python",
   "name": "python",
   "nbconvert_exporter": "python",
   "pygments_lexer": "ipython3",
   "version": "3.10.12"
  },
  "papermill": {
   "default_parameters": {},
   "duration": 11116.684172,
   "end_time": "2023-12-02T07:16:33.277597",
   "environment_variables": {},
   "exception": null,
   "input_path": "__notebook__.ipynb",
   "output_path": "__notebook__.ipynb",
   "parameters": {},
   "start_time": "2023-12-02T04:11:16.593425",
   "version": "2.4.0"
  }
 },
 "nbformat": 4,
 "nbformat_minor": 5
}
