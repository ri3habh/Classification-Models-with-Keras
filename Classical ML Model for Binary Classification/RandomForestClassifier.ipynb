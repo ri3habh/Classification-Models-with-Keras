{
 "cells": [
  {
   "cell_type": "code",
   "execution_count": 1,
   "id": "c240a35f",
   "metadata": {
    "_cell_guid": "b1076dfc-b9ad-4769-8c92-a6c4dae69d19",
    "_uuid": "8f2839f25d086af736a60e9eeb907d3b93b6e0e5",
    "execution": {
     "iopub.execute_input": "2023-11-03T01:46:54.507220Z",
     "iopub.status.busy": "2023-11-03T01:46:54.506902Z",
     "iopub.status.idle": "2023-11-03T01:46:55.202549Z",
     "shell.execute_reply": "2023-11-03T01:46:55.201529Z"
    },
    "papermill": {
     "duration": 0.702874,
     "end_time": "2023-11-03T01:46:55.204918",
     "exception": false,
     "start_time": "2023-11-03T01:46:54.502044",
     "status": "completed"
    },
    "tags": []
   },
   "outputs": [
    {
     "name": "stdout",
     "output_type": "stream",
     "text": [
      "/kaggle/input/watai-open-project-f23-beginner-classical-ml/beginner_data_cml.npz\n"
     ]
    }
   ],
   "source": [
    "# This Python 3 environment comes with many helpful analytics libraries installed\n",
    "# It is defined by the kaggle/python Docker image: https://github.com/kaggle/docker-python\n",
    "# For example, here's several helpful packages to load\n",
    "\n",
    "import numpy as np # linear algebra\n",
    "import pandas as pd # data processing, CSV file I/O (e.g. pd.read_csv)\n",
    "\n",
    "# Input data files are available in the read-only \"../input/\" directory\n",
    "# For example, running this (by clicking run or pressing Shift+Enter) will list all files under the input directory\n",
    "\n",
    "import os\n",
    "for dirname, _, filenames in os.walk('/kaggle/input'):\n",
    "    for filename in filenames:\n",
    "        print(os.path.join(dirname, filename))\n",
    "\n",
    "# You can write up to 20GB to the current directory (/kaggle/working/) that gets preserved as output when you create a version using \"Save & Run All\" \n",
    "# You can also write temporary files to /kaggle/temp/, but they won't be saved outside of the current session"
   ]
  },
  {
   "cell_type": "code",
   "execution_count": 2,
   "id": "c6cfae19",
   "metadata": {
    "execution": {
     "iopub.execute_input": "2023-11-03T01:46:55.213155Z",
     "iopub.status.busy": "2023-11-03T01:46:55.212803Z",
     "iopub.status.idle": "2023-11-03T01:46:57.607199Z",
     "shell.execute_reply": "2023-11-03T01:46:57.606400Z"
    },
    "papermill": {
     "duration": 2.400797,
     "end_time": "2023-11-03T01:46:57.609402",
     "exception": false,
     "start_time": "2023-11-03T01:46:55.208605",
     "status": "completed"
    },
    "tags": []
   },
   "outputs": [
    {
     "name": "stderr",
     "output_type": "stream",
     "text": [
      "/opt/conda/lib/python3.10/site-packages/scipy/__init__.py:146: UserWarning: A NumPy version >=1.16.5 and <1.23.0 is required for this version of SciPy (detected version 1.23.5\n",
      "  warnings.warn(f\"A NumPy version >={np_minversion} and <{np_maxversion}\"\n"
     ]
    }
   ],
   "source": [
    "# IMPORT STATEMENTS...\n",
    "import numpy as np\n",
    "from sklearn.model_selection import cross_val_score\n",
    "from sklearn.model_selection import cross_val_predict\n",
    "from sklearn.metrics import precision_score, recall_score\n",
    "from sklearn.metrics import f1_score\n",
    "from sklearn.ensemble import RandomForestClassifier\n",
    "from sklearn.metrics import precision_recall_curve\n",
    "from sklearn.metrics import roc_auc_score\n",
    "import matplotlib.pyplot as plt\n",
    "\n",
    "#LOADING DATA...\n",
    "with np.load(\"/kaggle/input/watai-open-project-f23-beginner-classical-ml/beginner_data_cml.npz\") as data:\n",
    "    X_train = data['train_images']  # Shape (8981, 64, 64, 3)\n",
    "    y_train = data['train_labels']  # Shape (8981,)\n",
    "    X_test = data['test_images']  # Shape (1800, 64, 64, 3)\n",
    "    # we don't have y_test because the labels for the test is the basis of the scoring in the competition...\n",
    "    \n",
    "#creating target vectors for the classification task...\n",
    "y_train_1 = (y_train == 1)"
   ]
  },
  {
   "cell_type": "code",
   "execution_count": 3,
   "id": "eaf98655",
   "metadata": {
    "execution": {
     "iopub.execute_input": "2023-11-03T01:46:57.617618Z",
     "iopub.status.busy": "2023-11-03T01:46:57.617332Z",
     "iopub.status.idle": "2023-11-03T01:49:20.938129Z",
     "shell.execute_reply": "2023-11-03T01:49:20.937237Z"
    },
    "papermill": {
     "duration": 143.330799,
     "end_time": "2023-11-03T01:49:20.943761",
     "exception": false,
     "start_time": "2023-11-03T01:46:57.612962",
     "status": "completed"
    },
    "tags": []
   },
   "outputs": [
    {
     "data": {
      "text/plain": [
       "array([[0.38302858, 0.61697142],\n",
       "       [0.88051139, 0.11948861]])"
      ]
     },
     "execution_count": 3,
     "metadata": {},
     "output_type": "execute_result"
    }
   ],
   "source": [
    "# Reshape the image data to 2D\n",
    "X_train_flattened = X_train.reshape(X_train.shape[0], -1)  # Flatten each image\n",
    "# Make sure to apply the same reshaping procedure to the test data when you want to make predictions on it.\n",
    "\n",
    "# Create the SGDClassifier\n",
    "# Example of reducing complexity\n",
    "clf = RandomForestClassifier(\n",
    "    n_estimators=100, max_depth=10, min_samples_split=5, min_samples_leaf=2, random_state=42)\n",
    "clf.fit(X_train_flattened, y_train)\n",
    "\n",
    "#dosen't have decision_function() method, so we need its predict_proba() method that returns class probabilties for each instance\n",
    "y_probas_forest = cross_val_predict(clf, X_train_flattened, y_train_1, cv=3, method=\"predict_proba\")\n",
    "y_probas_forest[:2]"
   ]
  },
  {
   "cell_type": "code",
   "execution_count": 4,
   "id": "40440faa",
   "metadata": {
    "execution": {
     "iopub.execute_input": "2023-11-03T01:49:20.951765Z",
     "iopub.status.busy": "2023-11-03T01:49:20.951474Z",
     "iopub.status.idle": "2023-11-03T01:49:21.276144Z",
     "shell.execute_reply": "2023-11-03T01:49:21.275224Z"
    },
    "papermill": {
     "duration": 0.33162,
     "end_time": "2023-11-03T01:49:21.278925",
     "exception": false,
     "start_time": "2023-11-03T01:49:20.947305",
     "status": "completed"
    },
    "tags": []
   },
   "outputs": [
    {
     "data": {
      "image/png": "[encoded data removed]",
      "text/plain": [
       "<Figure size 640x480 with 1 Axes>"
      ]
     },
     "metadata": {},
     "output_type": "display_data"
    }
   ],
   "source": [
    "#PLOTTING THE MODEL\n",
    "y_scores_forest = y_probas_forest[:, 1]\n",
    "precisions_forest, recalls_forest, thresholds_forest = precision_recall_curve(y_train_1, y_scores_forest)\n",
    "# precisions, recalls, thresholds = precision_recall_curve(y_train_1, y_scores)\n",
    "\n",
    "\n",
    "plt.plot(recalls_forest, precisions_forest, \"b-\", linewidth=2, label=\"Random Forest\")\n",
    "plt.show()"
   ]
  },
  {
   "cell_type": "code",
   "execution_count": 5,
   "id": "9e5feba1",
   "metadata": {
    "execution": {
     "iopub.execute_input": "2023-11-03T01:49:21.290580Z",
     "iopub.status.busy": "2023-11-03T01:49:21.290275Z",
     "iopub.status.idle": "2023-11-03T01:49:21.301054Z",
     "shell.execute_reply": "2023-11-03T01:49:21.300219Z"
    },
    "papermill": {
     "duration": 0.019077,
     "end_time": "2023-11-03T01:49:21.303376",
     "exception": false,
     "start_time": "2023-11-03T01:49:21.284299",
     "status": "completed"
    },
    "tags": []
   },
   "outputs": [
    {
     "data": {
      "text/plain": [
       "0.8467374810318664"
      ]
     },
     "execution_count": 5,
     "metadata": {},
     "output_type": "execute_result"
    }
   ],
   "source": [
    "y_pred_forest = y_probas_forest[:, 1] >= 0.5\n",
    "f1_score(y_train_1, y_pred_forest)"
   ]
  },
  {
   "cell_type": "code",
   "execution_count": 6,
   "id": "eed1663d",
   "metadata": {
    "execution": {
     "iopub.execute_input": "2023-11-03T01:49:21.315050Z",
     "iopub.status.busy": "2023-11-03T01:49:21.314753Z",
     "iopub.status.idle": "2023-11-03T01:49:21.327204Z",
     "shell.execute_reply": "2023-11-03T01:49:21.326344Z"
    },
    "papermill": {
     "duration": 0.020927,
     "end_time": "2023-11-03T01:49:21.329609",
     "exception": false,
     "start_time": "2023-11-03T01:49:21.308682",
     "status": "completed"
    },
    "tags": []
   },
   "outputs": [
    {
     "data": {
      "text/plain": [
       "0.9215707857284924"
      ]
     },
     "execution_count": 6,
     "metadata": {},
     "output_type": "execute_result"
    }
   ],
   "source": [
    "roc_auc_score(y_train_1, y_scores_forest)"
   ]
  },
  {
   "cell_type": "code",
   "execution_count": 7,
   "id": "c7d03216",
   "metadata": {
    "execution": {
     "iopub.execute_input": "2023-11-03T01:49:21.341228Z",
     "iopub.status.busy": "2023-11-03T01:49:21.340887Z",
     "iopub.status.idle": "2023-11-03T01:49:21.353214Z",
     "shell.execute_reply": "2023-11-03T01:49:21.352331Z"
    },
    "papermill": {
     "duration": 0.02025,
     "end_time": "2023-11-03T01:49:21.355221",
     "exception": false,
     "start_time": "2023-11-03T01:49:21.334971",
     "status": "completed"
    },
    "tags": []
   },
   "outputs": [
    {
     "data": {
      "text/plain": [
       "0.8576495625443368"
      ]
     },
     "execution_count": 7,
     "metadata": {},
     "output_type": "execute_result"
    }
   ],
   "source": [
    "precision_score(y_train_1, y_pred_forest)"
   ]
  },
  {
   "cell_type": "code",
   "execution_count": 8,
   "id": "9fff793a",
   "metadata": {
    "execution": {
     "iopub.execute_input": "2023-11-03T01:49:21.365078Z",
     "iopub.status.busy": "2023-11-03T01:49:21.364486Z",
     "iopub.status.idle": "2023-11-03T01:49:21.376552Z",
     "shell.execute_reply": "2023-11-03T01:49:21.375542Z"
    },
    "papermill": {
     "duration": 0.022632,
     "end_time": "2023-11-03T01:49:21.382154",
     "exception": false,
     "start_time": "2023-11-03T01:49:21.359522",
     "status": "completed"
    },
    "tags": []
   },
   "outputs": [
    {
     "data": {
      "text/plain": [
       "0.8360995850622407"
      ]
     },
     "execution_count": 8,
     "metadata": {},
     "output_type": "execute_result"
    }
   ],
   "source": [
    "recall_score(y_train_1, y_pred_forest)"
   ]
  },
  {
   "cell_type": "code",
   "execution_count": 9,
   "id": "f6f35ad2",
   "metadata": {
    "execution": {
     "iopub.execute_input": "2023-11-03T01:49:21.393812Z",
     "iopub.status.busy": "2023-11-03T01:49:21.393219Z",
     "iopub.status.idle": "2023-11-03T01:49:21.504309Z",
     "shell.execute_reply": "2023-11-03T01:49:21.503392Z"
    },
    "papermill": {
     "duration": 0.11981,
     "end_time": "2023-11-03T01:49:21.506811",
     "exception": false,
     "start_time": "2023-11-03T01:49:21.387001",
     "status": "completed"
    },
    "tags": []
   },
   "outputs": [],
   "source": [
    "# Reshape the image data to a 2D array (flattening)\n",
    "X_test_flattened = X_test.reshape(X_test.shape[0], -1)\n",
    "\n",
    "# Now you can make predictions\n",
    "predictions = clf.predict(X_test_flattened)\n",
    "\n",
    "N_test = X_test.shape[0]\n",
    "df = pd.DataFrame({\n",
    "    \"Index\": np.arange(N_test),\n",
    "    \"Label\": predictions\n",
    "})\n",
    "df.to_csv(\"submission.csv\", index=False)"
   ]
  }
 ],
 "metadata": {
  "kernelspec": {
   "display_name": "Python 3",
   "language": "python",
   "name": "python3"
  },
  "language_info": {
   "codemirror_mode": {
    "name": "ipython",
    "version": 3
   },
   "file_extension": ".py",
   "mimetype": "text/x-python",
   "name": "python",
   "nbconvert_exporter": "python",
   "pygments_lexer": "ipython3",
   "version": "3.10.12"
  },
  "papermill": {
   "default_parameters": {},
   "duration": 150.715114,
   "end_time": "2023-11-03T01:49:21.930539",
   "environment_variables": {},
   "exception": null,
   "input_path": "__notebook__.ipynb",
   "output_path": "__notebook__.ipynb",
   "parameters": {},
   "start_time": "2023-11-03T01:46:51.215425",
   "version": "2.4.0"
  }
 },
 "nbformat": 4,
 "nbformat_minor": 5
}
