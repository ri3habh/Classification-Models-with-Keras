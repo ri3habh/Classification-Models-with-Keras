{
 "cells": [
  {
   "cell_type": "code",
   "execution_count": 1,
   "id": "d469fd03",
   "metadata": {
    "_cell_guid": "b1076dfc-b9ad-4769-8c92-a6c4dae69d19",
    "_uuid": "8f2839f25d086af736a60e9eeb907d3b93b6e0e5",
    "execution": {
     "iopub.execute_input": "2023-11-11T21:26:41.382593Z",
     "iopub.status.busy": "2023-11-11T21:26:41.381157Z",
     "iopub.status.idle": "2023-11-11T21:26:41.961070Z",
     "shell.execute_reply": "2023-11-11T21:26:41.960422Z"
    },
    "papermill": {
     "duration": 0.586885,
     "end_time": "2023-11-11T21:26:41.962900",
     "exception": false,
     "start_time": "2023-11-11T21:26:41.376015",
     "status": "completed"
    },
    "tags": []
   },
   "outputs": [
    {
     "name": "stdout",
     "output_type": "stream",
     "text": [
      "/kaggle/input/watai-open-project-f23-beginner-classical-ml/beginner_data_cml.npz\n"
     ]
    }
   ],
   "source": [
    "# This Python 3 environment comes with many helpful analytics libraries installed\n",
    "# It is defined by the kaggle/python Docker image: https://github.com/kaggle/docker-python\n",
    "# For example, here's several helpful packages to load\n",
    "\n",
    "import numpy as np # linear algebra\n",
    "import pandas as pd # data processing, CSV file I/O (e.g. pd.read_csv)\n",
    "\n",
    "# Input data files are available in the read-only \"../input/\" directory\n",
    "# For example, running this (by clicking run or pressing Shift+Enter) will list all files under the input directory\n",
    "\n",
    "import os\n",
    "for dirname, _, filenames in os.walk('/kaggle/input'):\n",
    "    for filename in filenames:\n",
    "        print(os.path.join(dirname, filename))\n",
    "\n",
    "# You can write up to 20GB to the current directory (/kaggle/working/) that gets preserved as output when you create a version using \"Save & Run All\" \n",
    "# You can also write temporary files to /kaggle/temp/, but they won't be saved outside of the current session"
   ]
  },
  {
   "cell_type": "code",
   "execution_count": 2,
   "id": "8549da3d",
   "metadata": {
    "execution": {
     "iopub.execute_input": "2023-11-11T21:26:41.972472Z",
     "iopub.status.busy": "2023-11-11T21:26:41.972151Z",
     "iopub.status.idle": "2023-11-11T21:26:44.142933Z",
     "shell.execute_reply": "2023-11-11T21:26:44.142048Z"
    },
    "papermill": {
     "duration": 2.176942,
     "end_time": "2023-11-11T21:26:44.144944",
     "exception": false,
     "start_time": "2023-11-11T21:26:41.968002",
     "status": "completed"
    },
    "tags": []
   },
   "outputs": [],
   "source": [
    "# IMPORT STATEMENTS...\n",
    "import numpy as np\n",
    "from sklearn.model_selection import cross_val_score\n",
    "from sklearn.model_selection import cross_val_predict\n",
    "from sklearn.metrics import precision_score, recall_score\n",
    "from sklearn.metrics import f1_score\n",
    "from sklearn.ensemble import RandomForestClassifier\n",
    "from sklearn.metrics import precision_recall_curve\n",
    "from sklearn.metrics import roc_auc_score\n",
    "import matplotlib.pyplot as plt\n",
    "from sklearn.model_selection import RandomizedSearchCV\n",
    "from scipy.stats import randint\n",
    "from sklearn.model_selection import KFold\n",
    "\n",
    "#LOADING DATA...\n",
    "with np.load(\"/kaggle/input/watai-open-project-f23-beginner-classical-ml/beginner_data_cml.npz\") as data:\n",
    "    X_train = data['train_images']  # Shape (8981, 64, 64, 3)\n",
    "    y_train = data['train_labels']  # Shape (8981,)\n",
    "    X_test = data['test_images']  # Shape (1800, 64, 64, 3)\n",
    "    # we don't have y_test because the labels for the test is the basis of the scoring in the competition...\n",
    "    \n",
    "#creating target vectors for the classification task...\n",
    "y_train_1 = (y_train == 1)"
   ]
  },
  {
   "cell_type": "code",
   "execution_count": 3,
   "id": "c3b6d66e",
   "metadata": {
    "execution": {
     "iopub.execute_input": "2023-11-11T21:26:44.152709Z",
     "iopub.status.busy": "2023-11-11T21:26:44.152453Z",
     "iopub.status.idle": "2023-11-11T21:26:44.156738Z",
     "shell.execute_reply": "2023-11-11T21:26:44.156210Z"
    },
    "papermill": {
     "duration": 0.010072,
     "end_time": "2023-11-11T21:26:44.158536",
     "exception": false,
     "start_time": "2023-11-11T21:26:44.148464",
     "status": "completed"
    },
    "tags": []
   },
   "outputs": [
    {
     "name": "stdout",
     "output_type": "stream",
     "text": [
      "flattening training set...\n",
      "creating classifier...\n"
     ]
    }
   ],
   "source": [
    "#doing the training set alterations...\n",
    "print(\"flattening training set...\")\n",
    "# Reshape the image data to 2D\n",
    "X_train_flattened = X_train.reshape(X_train.shape[0], -1)  # Flatten each image\n",
    "# Make sure to apply the same reshaping procedure to the test data when you want to make predictions on it.\n",
    "\n",
    "print(\"creating classifier...\")\n",
    "# Reducing complexity\n",
    "clf = RandomForestClassifier(n_estimators=500, max_leaf_nodes=16, n_jobs=-1)"
   ]
  },
  {
   "cell_type": "code",
   "execution_count": 4,
   "id": "2f187767",
   "metadata": {
    "execution": {
     "iopub.execute_input": "2023-11-11T21:26:44.166332Z",
     "iopub.status.busy": "2023-11-11T21:26:44.166117Z",
     "iopub.status.idle": "2023-11-11T21:26:44.172932Z",
     "shell.execute_reply": "2023-11-11T21:26:44.172167Z"
    },
    "papermill": {
     "duration": 0.012398,
     "end_time": "2023-11-11T21:26:44.174406",
     "exception": false,
     "start_time": "2023-11-11T21:26:44.162008",
     "status": "completed"
    },
    "tags": []
   },
   "outputs": [],
   "source": [
    "n_splits = 5 # number of cross-validation splits\n",
    "\n",
    "#parameters for hyperparameter tuning...\n",
    "param_dist = {\n",
    "    'n_estimators': randint(100, 500),  # Random number of trees between 100 and 500\n",
    "    'max_depth': [None] + list(randint(10, 50).rvs(3)),  # Random maximum depth between 10 and 50\n",
    "    'min_samples_split': randint(2, 20),  # Random minimum samples to split between 2 and 20\n",
    "    'min_samples_leaf': randint(1, 5),  # Random minimum samples in leaf between 1 and 5\n",
    "}\n",
    "\n",
    "kf = KFold(n_splits=n_splits, shuffle=True, random_state=42)"
   ]
  },
  {
   "cell_type": "code",
   "execution_count": 5,
   "id": "fdd01df6",
   "metadata": {
    "execution": {
     "iopub.execute_input": "2023-11-11T21:26:44.182247Z",
     "iopub.status.busy": "2023-11-11T21:26:44.182028Z",
     "iopub.status.idle": "2023-11-11T21:26:44.185983Z",
     "shell.execute_reply": "2023-11-11T21:26:44.185195Z"
    },
    "papermill": {
     "duration": 0.00996,
     "end_time": "2023-11-11T21:26:44.187713",
     "exception": false,
     "start_time": "2023-11-11T21:26:44.177753",
     "status": "completed"
    },
    "tags": []
   },
   "outputs": [
    {
     "name": "stdout",
     "output_type": "stream",
     "text": [
      "performing random search with 5-fold cross_validation...\n"
     ]
    }
   ],
   "source": [
    "print(\"performing random search with {}-fold cross_validation...\".format(n_splits))\n",
    "random_search= RandomizedSearchCV(clf, param_distributions=param_dist, n_iter=1, cv=kf, scoring='accuracy', n_jobs=-1, random_state=42)"
   ]
  },
  {
   "cell_type": "code",
   "execution_count": 6,
   "id": "a31b03ac",
   "metadata": {
    "execution": {
     "iopub.execute_input": "2023-11-11T21:26:44.195618Z",
     "iopub.status.busy": "2023-11-11T21:26:44.195405Z",
     "iopub.status.idle": "2023-11-11T21:28:40.561767Z",
     "shell.execute_reply": "2023-11-11T21:28:40.560863Z"
    },
    "papermill": {
     "duration": 116.372494,
     "end_time": "2023-11-11T21:28:40.563645",
     "exception": false,
     "start_time": "2023-11-11T21:26:44.191151",
     "status": "completed"
    },
    "tags": []
   },
   "outputs": [
    {
     "name": "stdout",
     "output_type": "stream",
     "text": [
      "fitting random search to our data...\n",
      "getting the best hyperparameters and model...\n",
      "training the best model on our data...\n",
      "getting the y predictions...\n"
     ]
    },
    {
     "data": {
      "text/plain": [
       "array([ True, False])"
      ]
     },
     "execution_count": 6,
     "metadata": {},
     "output_type": "execute_result"
    }
   ],
   "source": [
    "print(\"fitting random search to our data...\")\n",
    "# Fit the random search to your data\n",
    "random_search.fit(X_train_flattened, y_train_1)\n",
    "\n",
    "print(\"getting the best hyperparameters and model...\")\n",
    "# Get the best hyperparameters and model\n",
    "best_params = random_search.best_params_\n",
    "best_model = random_search.best_estimator_\n",
    "\n",
    "print(\"training the best model on our data...\")\n",
    "# Train the best model on the training data\n",
    "best_model.fit(X_train_flattened, y_train_1)\n",
    "\n",
    "print(\"getting the y predictions...\")\n",
    "#dosen't have decision_function() method, so we need its predict_proba() method that returns class probabilties for each instance\n",
    "y_pred = best_model.predict(X_train_flattened)\n",
    "y_pred[:2]"
   ]
  },
  {
   "cell_type": "code",
   "execution_count": 7,
   "id": "838a95cd",
   "metadata": {
    "execution": {
     "iopub.execute_input": "2023-11-11T21:28:40.573408Z",
     "iopub.status.busy": "2023-11-11T21:28:40.572598Z",
     "iopub.status.idle": "2023-11-11T21:28:54.037520Z",
     "shell.execute_reply": "2023-11-11T21:28:54.036626Z"
    },
    "papermill": {
     "duration": 13.471405,
     "end_time": "2023-11-11T21:28:54.039149",
     "exception": false,
     "start_time": "2023-11-11T21:28:40.567744",
     "status": "completed"
    },
    "tags": []
   },
   "outputs": [
    {
     "data": {
      "image/png": "[encoded data removed]",
      "text/plain": [
       "<Figure size 1000x600 with 1 Axes>"
      ]
     },
     "metadata": {},
     "output_type": "display_data"
    }
   ],
   "source": [
    "#plotting important features\n",
    "feature_importance = best_model.feature_importances_\n",
    "n_features = X_train_flattened.shape[1]\n",
    "\n",
    "plt.figure(figsize=(10, 6))\n",
    "plt.bar(range(n_features), feature_importance, align=\"center\")\n",
    "plt.title(\"Feature Importance\")\n",
    "plt.xlabel(\"Feature Index\")\n",
    "plt.ylabel(\"Importance\")\n",
    "plt.show()"
   ]
  },
  {
   "cell_type": "code",
   "execution_count": 8,
   "id": "5984ea6d",
   "metadata": {
    "execution": {
     "iopub.execute_input": "2023-11-11T21:28:54.048391Z",
     "iopub.status.busy": "2023-11-11T21:28:54.048110Z",
     "iopub.status.idle": "2023-11-11T21:28:54.253143Z",
     "shell.execute_reply": "2023-11-11T21:28:54.252233Z"
    },
    "papermill": {
     "duration": 0.211803,
     "end_time": "2023-11-11T21:28:54.255155",
     "exception": false,
     "start_time": "2023-11-11T21:28:54.043352",
     "status": "completed"
    },
    "tags": []
   },
   "outputs": [],
   "source": [
    "# Calculate precision and recall at different probability thresholds\n",
    "y_scores = best_model.predict_proba(X_train_flattened)[:, 1]\n",
    "precisions, recalls, thresholds = precision_recall_curve(y_train_1, y_scores)"
   ]
  },
  {
   "cell_type": "code",
   "execution_count": 9,
   "id": "f0d7d382",
   "metadata": {
    "execution": {
     "iopub.execute_input": "2023-11-11T21:28:54.264832Z",
     "iopub.status.busy": "2023-11-11T21:28:54.264304Z",
     "iopub.status.idle": "2023-11-11T21:28:54.463183Z",
     "shell.execute_reply": "2023-11-11T21:28:54.462558Z"
    },
    "papermill": {
     "duration": 0.205219,
     "end_time": "2023-11-11T21:28:54.464706",
     "exception": false,
     "start_time": "2023-11-11T21:28:54.259487",
     "status": "completed"
    },
    "tags": []
   },
   "outputs": [
    {
     "data": {
      "image/png": "[encoded data removed]",
      "text/plain": [
       "<Figure size 800x600 with 1 Axes>"
      ]
     },
     "metadata": {},
     "output_type": "display_data"
    }
   ],
   "source": [
    "# Plot the precision-recall curve\n",
    "plt.figure(figsize=(8, 6))\n",
    "plt.plot(recalls, precisions, 'b-', linewidth=2)\n",
    "plt.xlabel('Recall')\n",
    "plt.ylabel('Precision')\n",
    "plt.title('Precision-Recall Curve')\n",
    "plt.grid(True)\n",
    "plt.show()"
   ]
  },
  {
   "cell_type": "code",
   "execution_count": 10,
   "id": "b010a6c3",
   "metadata": {
    "execution": {
     "iopub.execute_input": "2023-11-11T21:28:54.475242Z",
     "iopub.status.busy": "2023-11-11T21:28:54.474495Z",
     "iopub.status.idle": "2023-11-11T21:28:54.483949Z",
     "shell.execute_reply": "2023-11-11T21:28:54.483157Z"
    },
    "papermill": {
     "duration": 0.0167,
     "end_time": "2023-11-11T21:28:54.486025",
     "exception": false,
     "start_time": "2023-11-11T21:28:54.469325",
     "status": "completed"
    },
    "tags": []
   },
   "outputs": [
    {
     "data": {
      "text/plain": [
       "0.8236445967445846"
      ]
     },
     "execution_count": 10,
     "metadata": {},
     "output_type": "execute_result"
    }
   ],
   "source": [
    "f1_score(y_train_1, y_pred)"
   ]
  },
  {
   "cell_type": "code",
   "execution_count": 11,
   "id": "9a1daf71",
   "metadata": {
    "execution": {
     "iopub.execute_input": "2023-11-11T21:28:54.496349Z",
     "iopub.status.busy": "2023-11-11T21:28:54.496111Z",
     "iopub.status.idle": "2023-11-11T21:28:54.507280Z",
     "shell.execute_reply": "2023-11-11T21:28:54.506513Z"
    },
    "papermill": {
     "duration": 0.018188,
     "end_time": "2023-11-11T21:28:54.509102",
     "exception": false,
     "start_time": "2023-11-11T21:28:54.490914",
     "status": "completed"
    },
    "tags": []
   },
   "outputs": [
    {
     "data": {
      "text/plain": [
       "0.8374530952120648"
      ]
     },
     "execution_count": 11,
     "metadata": {},
     "output_type": "execute_result"
    }
   ],
   "source": [
    "roc_auc_score(y_train_1, y_pred)"
   ]
  },
  {
   "cell_type": "code",
   "execution_count": 12,
   "id": "28278ca2",
   "metadata": {
    "execution": {
     "iopub.execute_input": "2023-11-11T21:28:54.519535Z",
     "iopub.status.busy": "2023-11-11T21:28:54.518891Z",
     "iopub.status.idle": "2023-11-11T21:28:54.527322Z",
     "shell.execute_reply": "2023-11-11T21:28:54.526762Z"
    },
    "papermill": {
     "duration": 0.014964,
     "end_time": "2023-11-11T21:28:54.528678",
     "exception": false,
     "start_time": "2023-11-11T21:28:54.513714",
     "status": "completed"
    },
    "tags": []
   },
   "outputs": [
    {
     "data": {
      "text/plain": [
       "0.8779024262979389"
      ]
     },
     "execution_count": 12,
     "metadata": {},
     "output_type": "execute_result"
    }
   ],
   "source": [
    "precision_score(y_train_1, y_pred)"
   ]
  },
  {
   "cell_type": "code",
   "execution_count": 13,
   "id": "1ac40eb2",
   "metadata": {
    "execution": {
     "iopub.execute_input": "2023-11-11T21:28:54.538939Z",
     "iopub.status.busy": "2023-11-11T21:28:54.538443Z",
     "iopub.status.idle": "2023-11-11T21:28:54.546571Z",
     "shell.execute_reply": "2023-11-11T21:28:54.546019Z"
    },
    "papermill": {
     "duration": 0.014915,
     "end_time": "2023-11-11T21:28:54.548105",
     "exception": false,
     "start_time": "2023-11-11T21:28:54.533190",
     "status": "completed"
    },
    "tags": []
   },
   "outputs": [
    {
     "data": {
      "text/plain": [
       "0.7757030889810973"
      ]
     },
     "execution_count": 13,
     "metadata": {},
     "output_type": "execute_result"
    }
   ],
   "source": [
    "recall_score(y_train_1, y_pred)"
   ]
  },
  {
   "cell_type": "markdown",
   "id": "01aa840e",
   "metadata": {
    "papermill": {
     "duration": 0.004474,
     "end_time": "2023-11-11T21:28:54.558011",
     "exception": false,
     "start_time": "2023-11-11T21:28:54.553537",
     "status": "completed"
    },
    "tags": []
   },
   "source": []
  },
  {
   "cell_type": "code",
   "execution_count": 14,
   "id": "45fd3092",
   "metadata": {
    "execution": {
     "iopub.execute_input": "2023-11-11T21:28:54.568491Z",
     "iopub.status.busy": "2023-11-11T21:28:54.568046Z",
     "iopub.status.idle": "2023-11-11T21:28:54.663688Z",
     "shell.execute_reply": "2023-11-11T21:28:54.663033Z"
    },
    "papermill": {
     "duration": 0.102899,
     "end_time": "2023-11-11T21:28:54.665478",
     "exception": false,
     "start_time": "2023-11-11T21:28:54.562579",
     "status": "completed"
    },
    "tags": []
   },
   "outputs": [],
   "source": [
    "# Reshape the image data to a 2D array (flattening)\n",
    "X_test_flattened = X_test.reshape(X_test.shape[0], -1)\n",
    "\n",
    "# Now you can make predictions\n",
    "predictions = best_model.predict(X_test_flattened)\n",
    "\n",
    "N_test = X_test.shape[0]\n",
    "df = pd.DataFrame({\n",
    "    \"Index\": np.arange(N_test),\n",
    "    \"Label\": predictions\n",
    "})\n",
    "df.to_csv(\"submission.csv\", index=False)"
   ]
  }
 ],
 "metadata": {
  "kernelspec": {
   "display_name": "Python 3",
   "language": "python",
   "name": "python3"
  },
  "language_info": {
   "codemirror_mode": {
    "name": "ipython",
    "version": 3
   },
   "file_extension": ".py",
   "mimetype": "text/x-python",
   "name": "python",
   "nbconvert_exporter": "python",
   "pygments_lexer": "ipython3",
   "version": "3.10.12"
  },
  "papermill": {
   "default_parameters": {},
   "duration": 138.670381,
   "end_time": "2023-11-11T21:28:57.287370",
   "environment_variables": {},
   "exception": null,
   "input_path": "__notebook__.ipynb",
   "output_path": "__notebook__.ipynb",
   "parameters": {},
   "start_time": "2023-11-11T21:26:38.616989",
   "version": "2.4.0"
  }
 },
 "nbformat": 4,
 "nbformat_minor": 5
}
