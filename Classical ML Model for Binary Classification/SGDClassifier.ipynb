{
 "cells": [
  {
   "cell_type": "code",
   "execution_count": 1,
   "id": "c9392db0",
   "metadata": {
    "_cell_guid": "b1076dfc-b9ad-4769-8c92-a6c4dae69d19",
    "_uuid": "8f2839f25d086af736a60e9eeb907d3b93b6e0e5",
    "execution": {
     "iopub.execute_input": "2023-10-25T20:41:27.053029Z",
     "iopub.status.busy": "2023-10-25T20:41:27.052607Z",
     "iopub.status.idle": "2023-10-25T20:41:27.483700Z",
     "shell.execute_reply": "2023-10-25T20:41:27.480929Z"
    },
    "papermill": {
     "duration": 0.443749,
     "end_time": "2023-10-25T20:41:27.486527",
     "exception": false,
     "start_time": "2023-10-25T20:41:27.042778",
     "status": "completed"
    },
    "tags": []
   },
   "outputs": [
    {
     "name": "stdout",
     "output_type": "stream",
     "text": [
      "/kaggle/input/watai-open-project-f23-beginner-classical-ml/beginner_data_cml.npz\n"
     ]
    }
   ],
   "source": [
    "# This Python 3 environment comes with many helpful analytics libraries installed\n",
    "# It is defined by the kaggle/python Docker image: https://github.com/kaggle/docker-python\n",
    "# For example, here's several helpful packages to load\n",
    "\n",
    "import numpy as np # linear algebra\n",
    "import pandas as pd # data processing, CSV file I/O (e.g. pd.read_csv)\n",
    "\n",
    "# Input data files are available in the read-only \"../input/\" directory\n",
    "# For example, running this (by clicking run or pressing Shift+Enter) will list all files under the input directory\n",
    "\n",
    "import os\n",
    "for dirname, _, filenames in os.walk('/kaggle/input'):\n",
    "    for filename in filenames:\n",
    "        print(os.path.join(dirname, filename))\n",
    "\n",
    "# You can write up to 20GB to the current directory (/kaggle/working/) that gets preserved as output when you create a version using \"Save & Run All\" \n",
    "# You can also write temporary files to /kaggle/temp/, but they won't be saved outside of the current session"
   ]
  },
  {
   "cell_type": "code",
   "execution_count": 2,
   "id": "ae56a5dd",
   "metadata": {
    "execution": {
     "iopub.execute_input": "2023-10-25T20:41:27.503565Z",
     "iopub.status.busy": "2023-10-25T20:41:27.503006Z",
     "iopub.status.idle": "2023-10-25T20:41:28.559625Z",
     "shell.execute_reply": "2023-10-25T20:41:28.558104Z"
    },
    "papermill": {
     "duration": 1.068403,
     "end_time": "2023-10-25T20:41:28.562547",
     "exception": false,
     "start_time": "2023-10-25T20:41:27.494144",
     "status": "completed"
    },
    "tags": []
   },
   "outputs": [],
   "source": [
    "import numpy as np\n",
    "\n",
    "with np.load(\"/kaggle/input/watai-open-project-f23-beginner-classical-ml/beginner_data_cml.npz\") as data:\n",
    "    X_train = data['train_images']  # Shape (8981, 64, 64, 3)\n",
    "    y_train = data['train_labels']  # Shape (8981,)\n",
    "    X_test = data['test_images']  # Shape (1800, 64, 64, 3)\n",
    "    # we don't have y_test because the labels for the test is the basis of the scoring in the competition..."
   ]
  },
  {
   "cell_type": "code",
   "execution_count": 3,
   "id": "8ba35e8b",
   "metadata": {
    "execution": {
     "iopub.execute_input": "2023-10-25T20:41:28.579325Z",
     "iopub.status.busy": "2023-10-25T20:41:28.578923Z",
     "iopub.status.idle": "2023-10-25T20:41:28.583954Z",
     "shell.execute_reply": "2023-10-25T20:41:28.582754Z"
    },
    "papermill": {
     "duration": 0.0163,
     "end_time": "2023-10-25T20:41:28.586418",
     "exception": false,
     "start_time": "2023-10-25T20:41:28.570118",
     "status": "completed"
    },
    "tags": []
   },
   "outputs": [],
   "source": [
    "#creating target vectors for the classification task...\n",
    "y_train_1 = (y_train == 1)"
   ]
  },
  {
   "cell_type": "code",
   "execution_count": 4,
   "id": "9a02eb34",
   "metadata": {
    "execution": {
     "iopub.execute_input": "2023-10-25T20:41:28.603685Z",
     "iopub.status.busy": "2023-10-25T20:41:28.603274Z",
     "iopub.status.idle": "2023-10-25T20:41:29.988312Z",
     "shell.execute_reply": "2023-10-25T20:41:29.986773Z"
    },
    "papermill": {
     "duration": 1.396972,
     "end_time": "2023-10-25T20:41:29.991410",
     "exception": false,
     "start_time": "2023-10-25T20:41:28.594438",
     "status": "completed"
    },
    "tags": []
   },
   "outputs": [],
   "source": [
    "#Starting with the stochastic gradient descent model, a good binary model\n",
    "\n",
    "from sklearn.linear_model import SGDClassifier #importing model\n"
   ]
  },
  {
   "cell_type": "code",
   "execution_count": 5,
   "id": "f6105fa5",
   "metadata": {
    "execution": {
     "iopub.execute_input": "2023-10-25T20:41:30.008520Z",
     "iopub.status.busy": "2023-10-25T20:41:30.008086Z",
     "iopub.status.idle": "2023-10-25T20:42:14.955020Z",
     "shell.execute_reply": "2023-10-25T20:42:14.953884Z"
    },
    "papermill": {
     "duration": 44.966365,
     "end_time": "2023-10-25T20:42:14.965424",
     "exception": false,
     "start_time": "2023-10-25T20:41:29.999059",
     "status": "completed"
    },
    "tags": []
   },
   "outputs": [
    {
     "data": {
      "text/html": [
       "<style>#sk-container-id-1 {color: black;background-color: white;}#sk-container-id-1 pre{padding: 0;}#sk-container-id-1 div.sk-toggleable {background-color: white;}#sk-container-id-1 label.sk-toggleable__label {cursor: pointer;display: block;width: 100%;margin-bottom: 0;padding: 0.3em;box-sizing: border-box;text-align: center;}#sk-container-id-1 label.sk-toggleable__label-arrow:before {content: \"▸\";float: left;margin-right: 0.25em;color: #696969;}#sk-container-id-1 label.sk-toggleable__label-arrow:hover:before {color: black;}#sk-container-id-1 div.sk-estimator:hover label.sk-toggleable__label-arrow:before {color: black;}#sk-container-id-1 div.sk-toggleable__content {max-height: 0;max-width: 0;overflow: hidden;text-align: left;background-color: #f0f8ff;}#sk-container-id-1 div.sk-toggleable__content pre {margin: 0.2em;color: black;border-radius: 0.25em;background-color: #f0f8ff;}#sk-container-id-1 input.sk-toggleable__control:checked~div.sk-toggleable__content {max-height: 200px;max-width: 100%;overflow: auto;}#sk-container-id-1 input.sk-toggleable__control:checked~label.sk-toggleable__label-arrow:before {content: \"▾\";}#sk-container-id-1 div.sk-estimator input.sk-toggleable__control:checked~label.sk-toggleable__label {background-color: #d4ebff;}#sk-container-id-1 div.sk-label input.sk-toggleable__control:checked~label.sk-toggleable__label {background-color: #d4ebff;}#sk-container-id-1 input.sk-hidden--visually {border: 0;clip: rect(1px 1px 1px 1px);clip: rect(1px, 1px, 1px, 1px);height: 1px;margin: -1px;overflow: hidden;padding: 0;position: absolute;width: 1px;}#sk-container-id-1 div.sk-estimator {font-family: monospace;background-color: #f0f8ff;border: 1px dotted black;border-radius: 0.25em;box-sizing: border-box;margin-bottom: 0.5em;}#sk-container-id-1 div.sk-estimator:hover {background-color: #d4ebff;}#sk-container-id-1 div.sk-parallel-item::after {content: \"\";width: 100%;border-bottom: 1px solid gray;flex-grow: 1;}#sk-container-id-1 div.sk-label:hover label.sk-toggleable__label {background-color: #d4ebff;}#sk-container-id-1 div.sk-serial::before {content: \"\";position: absolute;border-left: 1px solid gray;box-sizing: border-box;top: 0;bottom: 0;left: 50%;z-index: 0;}#sk-container-id-1 div.sk-serial {display: flex;flex-direction: column;align-items: center;background-color: white;padding-right: 0.2em;padding-left: 0.2em;position: relative;}#sk-container-id-1 div.sk-item {position: relative;z-index: 1;}#sk-container-id-1 div.sk-parallel {display: flex;align-items: stretch;justify-content: center;background-color: white;position: relative;}#sk-container-id-1 div.sk-item::before, #sk-container-id-1 div.sk-parallel-item::before {content: \"\";position: absolute;border-left: 1px solid gray;box-sizing: border-box;top: 0;bottom: 0;left: 50%;z-index: -1;}#sk-container-id-1 div.sk-parallel-item {display: flex;flex-direction: column;z-index: 1;position: relative;background-color: white;}#sk-container-id-1 div.sk-parallel-item:first-child::after {align-self: flex-end;width: 50%;}#sk-container-id-1 div.sk-parallel-item:last-child::after {align-self: flex-start;width: 50%;}#sk-container-id-1 div.sk-parallel-item:only-child::after {width: 0;}#sk-container-id-1 div.sk-dashed-wrapped {border: 1px dashed gray;margin: 0 0.4em 0.5em 0.4em;box-sizing: border-box;padding-bottom: 0.4em;background-color: white;}#sk-container-id-1 div.sk-label label {font-family: monospace;font-weight: bold;display: inline-block;line-height: 1.2em;}#sk-container-id-1 div.sk-label-container {text-align: center;}#sk-container-id-1 div.sk-container {/* jupyter's `normalize.less` sets `[hidden] { display: none; }` but bootstrap.min.css set `[hidden] { display: none !important; }` so we also need the `!important` here to be able to override the default hidden behavior on the sphinx rendered scikit-learn.org. See: https://github.com/scikit-learn/scikit-learn/issues/21755 */display: inline-block !important;position: relative;}#sk-container-id-1 div.sk-text-repr-fallback {display: none;}</style><div id=\"sk-container-id-1\" class=\"sk-top-container\"><div class=\"sk-text-repr-fallback\"><pre>SGDClassifier(random_state=42)</pre><b>In a Jupyter environment, please rerun this cell to show the HTML representation or trust the notebook. <br />On GitHub, the HTML representation is unable to render, please try loading this page with nbviewer.org.</b></div><div class=\"sk-container\" hidden><div class=\"sk-item\"><div class=\"sk-estimator sk-toggleable\"><input class=\"sk-toggleable__control sk-hidden--visually\" id=\"sk-estimator-id-1\" type=\"checkbox\" checked><label for=\"sk-estimator-id-1\" class=\"sk-toggleable__label sk-toggleable__label-arrow\">SGDClassifier</label><div class=\"sk-toggleable__content\"><pre>SGDClassifier(random_state=42)</pre></div></div></div></div></div>"
      ],
      "text/plain": [
       "SGDClassifier(random_state=42)"
      ]
     },
     "execution_count": 5,
     "metadata": {},
     "output_type": "execute_result"
    }
   ],
   "source": [
    "# Reshape the image data to 2D\n",
    "X_train_flattened = X_train.reshape(X_train.shape[0], -1)  # Flatten each image\n",
    "# Make sure to apply the same reshaping procedure to the test data when you want to make predictions on it.\n",
    "\n",
    "# Create the SGDClassifier\n",
    "sgd_clf = SGDClassifier(random_state=42)\n",
    "\n",
    "# Fit the classifier with the flattened data\n",
    "sgd_clf.fit(X_train_flattened, y_train_1)\n"
   ]
  },
  {
   "cell_type": "code",
   "execution_count": 6,
   "id": "ba266df4",
   "metadata": {
    "execution": {
     "iopub.execute_input": "2023-10-25T20:42:14.983116Z",
     "iopub.status.busy": "2023-10-25T20:42:14.982734Z",
     "iopub.status.idle": "2023-10-25T20:43:11.678456Z",
     "shell.execute_reply": "2023-10-25T20:43:11.676311Z"
    },
    "papermill": {
     "duration": 56.710248,
     "end_time": "2023-10-25T20:43:11.683823",
     "exception": false,
     "start_time": "2023-10-25T20:42:14.973575",
     "status": "completed"
    },
    "tags": []
   },
   "outputs": [
    {
     "data": {
      "text/plain": [
       "array([0.65263861, 0.6997328 , 0.62813231])"
      ]
     },
     "execution_count": 6,
     "metadata": {},
     "output_type": "execute_result"
    }
   ],
   "source": [
    "#measuring accuracy using cross-validation\n",
    "from sklearn.model_selection import cross_val_score\n",
    "cross_val_score(sgd_clf, X_train_flattened, y_train_1, cv=3, scoring=\"accuracy\")\n",
    "#above, we're using 3 folds, for no reason tbh..."
   ]
  },
  {
   "cell_type": "code",
   "execution_count": 7,
   "id": "56589a13",
   "metadata": {
    "execution": {
     "iopub.execute_input": "2023-10-25T20:43:11.718936Z",
     "iopub.status.busy": "2023-10-25T20:43:11.718033Z",
     "iopub.status.idle": "2023-10-25T20:43:11.725673Z",
     "shell.execute_reply": "2023-10-25T20:43:11.723942Z"
    },
    "papermill": {
     "duration": 0.032036,
     "end_time": "2023-10-25T20:43:11.731970",
     "exception": false,
     "start_time": "2023-10-25T20:43:11.699934",
     "status": "completed"
    },
    "tags": []
   },
   "outputs": [],
   "source": [
    "#yo we got accuracy in the 60s... could be just bc we have 60% of the images as cabinets 🤔"
   ]
  },
  {
   "cell_type": "markdown",
   "id": "7f55d32d",
   "metadata": {
    "papermill": {
     "duration": 0.016027,
     "end_time": "2023-10-25T20:43:11.764250",
     "exception": false,
     "start_time": "2023-10-25T20:43:11.748223",
     "status": "completed"
    },
    "tags": []
   },
   "source": [
    "Instead of cross_validation, we should use a confusion matrix and plot a precision/recall graph..."
   ]
  },
  {
   "cell_type": "code",
   "execution_count": 8,
   "id": "efe94f34",
   "metadata": {
    "execution": {
     "iopub.execute_input": "2023-10-25T20:43:11.783897Z",
     "iopub.status.busy": "2023-10-25T20:43:11.783522Z",
     "iopub.status.idle": "2023-10-25T20:44:08.581407Z",
     "shell.execute_reply": "2023-10-25T20:44:08.579749Z"
    },
    "papermill": {
     "duration": 56.812001,
     "end_time": "2023-10-25T20:44:08.586391",
     "exception": false,
     "start_time": "2023-10-25T20:43:11.774390",
     "status": "completed"
    },
    "tags": []
   },
   "outputs": [],
   "source": [
    "#first, we need a set of predictions so that they can be compared to the actual targets, that's what this code is for:\n",
    "\n",
    "from sklearn.model_selection import cross_val_predict\n",
    "y_train_pred = cross_val_predict(sgd_clf, X_train_flattened, y_train_1, cv=3)"
   ]
  },
  {
   "cell_type": "code",
   "execution_count": 9,
   "id": "41573b6d",
   "metadata": {
    "execution": {
     "iopub.execute_input": "2023-10-25T20:44:08.624016Z",
     "iopub.status.busy": "2023-10-25T20:44:08.623281Z",
     "iopub.status.idle": "2023-10-25T20:44:08.641696Z",
     "shell.execute_reply": "2023-10-25T20:44:08.640101Z"
    },
    "papermill": {
     "duration": 0.042675,
     "end_time": "2023-10-25T20:44:08.646265",
     "exception": false,
     "start_time": "2023-10-25T20:44:08.603590",
     "status": "completed"
    },
    "tags": []
   },
   "outputs": [
    {
     "data": {
      "text/plain": [
       "array([[2313, 2330],\n",
       "       [ 722, 3616]])"
      ]
     },
     "execution_count": 9,
     "metadata": {},
     "output_type": "execute_result"
    }
   ],
   "source": [
    "from sklearn.metrics import confusion_matrix\n",
    "cm = confusion_matrix(y_train_1, y_train_pred) # making the confusion matrix\n",
    "cm # spitting it out"
   ]
  },
  {
   "cell_type": "markdown",
   "id": "085d157d",
   "metadata": {
    "papermill": {
     "duration": 0.016077,
     "end_time": "2023-10-25T20:44:08.679066",
     "exception": false,
     "start_time": "2023-10-25T20:44:08.662989",
     "status": "completed"
    },
    "tags": []
   },
   "source": [
    "Here, we can see that 2313 of them are correctly classified as bikes (TRUE NEGATIVES), 2330 are classified as cabinets (but are actually bikes) (FALSE POSITIVES), 722 of them are cabinets but are classified as bikes (FALSE NEGATIVES), and 3616 of them are correctly predicted as cabinets (TRUE POSITIVES). We gotta reduce the # of false positives and the false negatives..."
   ]
  },
  {
   "cell_type": "markdown",
   "id": "3bbc3cc1",
   "metadata": {
    "papermill": {
     "duration": 0.011114,
     "end_time": "2023-10-25T20:44:08.707554",
     "exception": false,
     "start_time": "2023-10-25T20:44:08.696440",
     "status": "completed"
    },
    "tags": []
   },
   "source": [
    "Now, let's plot the precision/recall (or the ROC curve (probably not, we care more about false positives here)), and see if we have any better models (maybe RandomTree???) "
   ]
  },
  {
   "cell_type": "code",
   "execution_count": 10,
   "id": "2c5e26b9",
   "metadata": {
    "execution": {
     "iopub.execute_input": "2023-10-25T20:44:08.725887Z",
     "iopub.status.busy": "2023-10-25T20:44:08.725476Z",
     "iopub.status.idle": "2023-10-25T20:44:08.739839Z",
     "shell.execute_reply": "2023-10-25T20:44:08.738666Z"
    },
    "papermill": {
     "duration": 0.026399,
     "end_time": "2023-10-25T20:44:08.742393",
     "exception": false,
     "start_time": "2023-10-25T20:44:08.715994",
     "status": "completed"
    },
    "tags": []
   },
   "outputs": [
    {
     "data": {
      "text/plain": [
       "0.6081399260006727"
      ]
     },
     "execution_count": 10,
     "metadata": {},
     "output_type": "execute_result"
    }
   ],
   "source": [
    "from sklearn.metrics import precision_score, recall_score\n",
    "precision_score(y_train_1, y_train_pred)"
   ]
  },
  {
   "cell_type": "code",
   "execution_count": 11,
   "id": "7ce4801c",
   "metadata": {
    "execution": {
     "iopub.execute_input": "2023-10-25T20:44:08.760669Z",
     "iopub.status.busy": "2023-10-25T20:44:08.760225Z",
     "iopub.status.idle": "2023-10-25T20:44:08.772393Z",
     "shell.execute_reply": "2023-10-25T20:44:08.771245Z"
    },
    "papermill": {
     "duration": 0.024371,
     "end_time": "2023-10-25T20:44:08.774846",
     "exception": false,
     "start_time": "2023-10-25T20:44:08.750475",
     "status": "completed"
    },
    "tags": []
   },
   "outputs": [
    {
     "data": {
      "text/plain": [
       "0.8335638543107423"
      ]
     },
     "execution_count": 11,
     "metadata": {},
     "output_type": "execute_result"
    }
   ],
   "source": [
    "recall_score(y_train_1, y_train_pred)"
   ]
  },
  {
   "cell_type": "code",
   "execution_count": 12,
   "id": "5bb25b2c",
   "metadata": {
    "execution": {
     "iopub.execute_input": "2023-10-25T20:44:08.793711Z",
     "iopub.status.busy": "2023-10-25T20:44:08.793302Z",
     "iopub.status.idle": "2023-10-25T20:44:08.806185Z",
     "shell.execute_reply": "2023-10-25T20:44:08.804995Z"
    },
    "papermill": {
     "duration": 0.025395,
     "end_time": "2023-10-25T20:44:08.808671",
     "exception": false,
     "start_time": "2023-10-25T20:44:08.783276",
     "status": "completed"
    },
    "tags": []
   },
   "outputs": [
    {
     "data": {
      "text/plain": [
       "0.7032283158304162"
      ]
     },
     "execution_count": 12,
     "metadata": {},
     "output_type": "execute_result"
    }
   ],
   "source": [
    "#comparing precision to recall...\n",
    "from sklearn.metrics import f1_score\n",
    "f1_score(y_train_1, y_train_pred)"
   ]
  },
  {
   "cell_type": "markdown",
   "id": "51c8bebb",
   "metadata": {
    "papermill": {
     "duration": 0.008606,
     "end_time": "2023-10-25T20:44:08.825708",
     "exception": false,
     "start_time": "2023-10-25T20:44:08.817102",
     "status": "completed"
    },
    "tags": []
   },
   "source": [
    "Now, trying a better classifier (RandomForestClassifier)..."
   ]
  },
  {
   "cell_type": "code",
   "execution_count": 13,
   "id": "26fe50e7",
   "metadata": {
    "execution": {
     "iopub.execute_input": "2023-10-25T20:44:08.844840Z",
     "iopub.status.busy": "2023-10-25T20:44:08.844170Z",
     "iopub.status.idle": "2023-10-25T20:44:09.224520Z",
     "shell.execute_reply": "2023-10-25T20:44:09.223348Z"
    },
    "papermill": {
     "duration": 0.392677,
     "end_time": "2023-10-25T20:44:09.227175",
     "exception": false,
     "start_time": "2023-10-25T20:44:08.834498",
     "status": "completed"
    },
    "tags": []
   },
   "outputs": [],
   "source": [
    "from sklearn.ensemble import RandomForestClassifier\n",
    "\n",
    "forest_clf = RandomForestClassifier(random_state=42)"
   ]
  },
  {
   "cell_type": "code",
   "execution_count": 14,
   "id": "6457d463",
   "metadata": {
    "execution": {
     "iopub.execute_input": "2023-10-25T20:44:09.246462Z",
     "iopub.status.busy": "2023-10-25T20:44:09.246013Z",
     "iopub.status.idle": "2023-10-25T20:47:02.068587Z",
     "shell.execute_reply": "2023-10-25T20:47:02.067357Z"
    },
    "papermill": {
     "duration": 172.843027,
     "end_time": "2023-10-25T20:47:02.078877",
     "exception": false,
     "start_time": "2023-10-25T20:44:09.235850",
     "status": "completed"
    },
    "tags": []
   },
   "outputs": [
    {
     "data": {
      "text/plain": [
       "array([[0.48, 0.52],\n",
       "       [0.88, 0.12]])"
      ]
     },
     "execution_count": 14,
     "metadata": {},
     "output_type": "execute_result"
    }
   ],
   "source": [
    "#dosen't have decision_function() method, so we need its predict_proba() method that returns class probabilties for each instance\n",
    "y_probas_forest = cross_val_predict(forest_clf, X_train_flattened, y_train_1, cv=3, method=\"predict_proba\")\n",
    "y_probas_forest[:2]"
   ]
  },
  {
   "cell_type": "code",
   "execution_count": 15,
   "id": "f631ca99",
   "metadata": {
    "execution": {
     "iopub.execute_input": "2023-10-25T20:47:02.099107Z",
     "iopub.status.busy": "2023-10-25T20:47:02.098683Z",
     "iopub.status.idle": "2023-10-25T20:47:02.107199Z",
     "shell.execute_reply": "2023-10-25T20:47:02.106334Z"
    },
    "papermill": {
     "duration": 0.021994,
     "end_time": "2023-10-25T20:47:02.110049",
     "exception": false,
     "start_time": "2023-10-25T20:47:02.088055",
     "status": "completed"
    },
    "tags": []
   },
   "outputs": [],
   "source": [
    "from sklearn.metrics import precision_recall_curve\n",
    "y_scores_forest = y_probas_forest[:, 1]\n",
    "precisions_forest, recalls_forest, thresholds_forest = precision_recall_curve(y_train_1, y_scores_forest)"
   ]
  },
  {
   "cell_type": "code",
   "execution_count": 16,
   "id": "ec7b5aad",
   "metadata": {
    "execution": {
     "iopub.execute_input": "2023-10-25T20:47:02.130083Z",
     "iopub.status.busy": "2023-10-25T20:47:02.129076Z",
     "iopub.status.idle": "2023-10-25T20:47:59.315991Z",
     "shell.execute_reply": "2023-10-25T20:47:59.314815Z"
    },
    "papermill": {
     "duration": 57.208498,
     "end_time": "2023-10-25T20:47:59.327696",
     "exception": false,
     "start_time": "2023-10-25T20:47:02.119198",
     "status": "completed"
    },
    "tags": []
   },
   "outputs": [
    {
     "data": {
      "image/png": "[encoded data removed]",
      "text/plain": [
       "<Figure size 640x480 with 1 Axes>"
      ]
     },
     "metadata": {},
     "output_type": "display_data"
    }
   ],
   "source": [
    "import matplotlib.pyplot as plt\n",
    "from sklearn.metrics import precision_recall_curve\n",
    "\n",
    "y_scores = cross_val_predict(sgd_clf, X_train_flattened, y_train_1, cv=3, method=\"decision_function\")\n",
    "precisions, recalls, thresholds = precision_recall_curve(y_train_1, y_scores)\n",
    "\n",
    "\n",
    "plt.plot(recalls_forest, precisions_forest, \"b-\", linewidth=2, label=\"Random Forest\")\n",
    "plt.show()"
   ]
  },
  {
   "cell_type": "code",
   "execution_count": 17,
   "id": "e088ddb0",
   "metadata": {
    "execution": {
     "iopub.execute_input": "2023-10-25T20:47:59.347275Z",
     "iopub.status.busy": "2023-10-25T20:47:59.346854Z",
     "iopub.status.idle": "2023-10-25T20:47:59.539629Z",
     "shell.execute_reply": "2023-10-25T20:47:59.538385Z"
    },
    "papermill": {
     "duration": 0.205838,
     "end_time": "2023-10-25T20:47:59.542409",
     "exception": false,
     "start_time": "2023-10-25T20:47:59.336571",
     "status": "completed"
    },
    "tags": []
   },
   "outputs": [
    {
     "data": {
      "image/png": "[encoded data removed]",
      "text/plain": [
       "<Figure size 640x480 with 1 Axes>"
      ]
     },
     "metadata": {},
     "output_type": "display_data"
    }
   ],
   "source": [
    "plt.plot(recalls, precisions, \"--\", linewidth=2, label=\"SGD\")\n",
    "plt.show()"
   ]
  },
  {
   "cell_type": "markdown",
   "id": "885f9752",
   "metadata": {
    "papermill": {
     "duration": 0.00901,
     "end_time": "2023-10-25T20:47:59.560846",
     "exception": false,
     "start_time": "2023-10-25T20:47:59.551836",
     "status": "completed"
    },
    "tags": []
   },
   "source": [
    "As we can see, the RandomForest has a greater AUC as compared to the SGD..."
   ]
  }
 ],
 "metadata": {
  "kernelspec": {
   "display_name": "Python 3",
   "language": "python",
   "name": "python3"
  },
  "language_info": {
   "codemirror_mode": {
    "name": "ipython",
    "version": 3
   },
   "file_extension": ".py",
   "mimetype": "text/x-python",
   "name": "python",
   "nbconvert_exporter": "python",
   "pygments_lexer": "ipython3",
   "version": "3.10.12"
  },
  "papermill": {
   "default_parameters": {},
   "duration": 396.925038,
   "end_time": "2023-10-25T20:48:00.294336",
   "environment_variables": {},
   "exception": null,
   "input_path": "__notebook__.ipynb",
   "output_path": "__notebook__.ipynb",
   "parameters": {},
   "start_time": "2023-10-25T20:41:23.369298",
   "version": "2.4.0"
  }
 },
 "nbformat": 4,
 "nbformat_minor": 5
}
